{
 "cells": [
  {
   "cell_type": "code",
   "execution_count": 1,
   "metadata": {},
   "outputs": [],
   "source": [
    "import pandas as pd\n",
    "from cosas_spotipy import *"
   ]
  },
  {
   "cell_type": "code",
   "execution_count": 9,
   "metadata": {},
   "outputs": [
    {
     "data": {
      "text/html": [
       "<div>\n",
       "<style scoped>\n",
       "    .dataframe tbody tr th:only-of-type {\n",
       "        vertical-align: middle;\n",
       "    }\n",
       "\n",
       "    .dataframe tbody tr th {\n",
       "        vertical-align: top;\n",
       "    }\n",
       "\n",
       "    .dataframe thead th {\n",
       "        text-align: right;\n",
       "    }\n",
       "</style>\n",
       "<table border=\"1\" class=\"dataframe\">\n",
       "  <thead>\n",
       "    <tr style=\"text-align: right;\">\n",
       "      <th></th>\n",
       "      <th>Unnamed: 0</th>\n",
       "      <th>position</th>\n",
       "      <th>year</th>\n",
       "      <th>start</th>\n",
       "      <th>end</th>\n",
       "      <th>track_name</th>\n",
       "      <th>artist</th>\n",
       "      <th>streams</th>\n",
       "      <th>danceability</th>\n",
       "      <th>energy</th>\n",
       "      <th>loudness</th>\n",
       "      <th>mode</th>\n",
       "      <th>speechiness</th>\n",
       "      <th>acousticness</th>\n",
       "      <th>liveness</th>\n",
       "      <th>valence</th>\n",
       "      <th>tempo</th>\n",
       "      <th>duration_ms</th>\n",
       "    </tr>\n",
       "  </thead>\n",
       "  <tbody>\n",
       "    <tr>\n",
       "      <th>400</th>\n",
       "      <td>400</td>\n",
       "      <td>136</td>\n",
       "      <td>2017</td>\n",
       "      <td>2017-01-06</td>\n",
       "      <td>2017-01-13</td>\n",
       "      <td>September Song</td>\n",
       "      <td>JP Cooper</td>\n",
       "      <td>3534190</td>\n",
       "      <td>0.623</td>\n",
       "      <td>0.6540</td>\n",
       "      <td>-5.675</td>\n",
       "      <td>0.0</td>\n",
       "      <td>0.0372</td>\n",
       "      <td>0.0545</td>\n",
       "      <td>0.0838</td>\n",
       "      <td>0.401</td>\n",
       "      <td>95.921</td>\n",
       "      <td>220291.0</td>\n",
       "    </tr>\n",
       "    <tr>\n",
       "      <th>401</th>\n",
       "      <td>401</td>\n",
       "      <td>135</td>\n",
       "      <td>2017</td>\n",
       "      <td>2017-01-06</td>\n",
       "      <td>2017-01-13</td>\n",
       "      <td>I See Fire - From \"The Hobbit - The Desolation...</td>\n",
       "      <td>Ed Sheeran</td>\n",
       "      <td>3539885</td>\n",
       "      <td>0.581</td>\n",
       "      <td>0.0549</td>\n",
       "      <td>-20.514</td>\n",
       "      <td>0.0</td>\n",
       "      <td>0.0397</td>\n",
       "      <td>0.5590</td>\n",
       "      <td>0.0718</td>\n",
       "      <td>0.234</td>\n",
       "      <td>152.037</td>\n",
       "      <td>300840.0</td>\n",
       "    </tr>\n",
       "    <tr>\n",
       "      <th>402</th>\n",
       "      <td>402</td>\n",
       "      <td>134</td>\n",
       "      <td>2017</td>\n",
       "      <td>2017-01-06</td>\n",
       "      <td>2017-01-13</td>\n",
       "      <td>Me, Myself &amp; I</td>\n",
       "      <td>G-Eazy</td>\n",
       "      <td>3552258</td>\n",
       "      <td>0.756</td>\n",
       "      <td>0.6740</td>\n",
       "      <td>-6.518</td>\n",
       "      <td>0.0</td>\n",
       "      <td>0.0959</td>\n",
       "      <td>0.0184</td>\n",
       "      <td>0.1580</td>\n",
       "      <td>0.389</td>\n",
       "      <td>111.995</td>\n",
       "      <td>251467.0</td>\n",
       "    </tr>\n",
       "  </tbody>\n",
       "</table>\n",
       "</div>"
      ],
      "text/plain": [
       "     Unnamed: 0  position  year       start         end  \\\n",
       "400         400       136  2017  2017-01-06  2017-01-13   \n",
       "401         401       135  2017  2017-01-06  2017-01-13   \n",
       "402         402       134  2017  2017-01-06  2017-01-13   \n",
       "\n",
       "                                            track_name      artist  streams  \\\n",
       "400                                     September Song   JP Cooper  3534190   \n",
       "401  I See Fire - From \"The Hobbit - The Desolation...  Ed Sheeran  3539885   \n",
       "402                                     Me, Myself & I      G-Eazy  3552258   \n",
       "\n",
       "     danceability  energy  loudness  mode  speechiness  acousticness  \\\n",
       "400         0.623  0.6540    -5.675   0.0       0.0372        0.0545   \n",
       "401         0.581  0.0549   -20.514   0.0       0.0397        0.5590   \n",
       "402         0.756  0.6740    -6.518   0.0       0.0959        0.0184   \n",
       "\n",
       "     liveness  valence    tempo  duration_ms  \n",
       "400    0.0838    0.401   95.921     220291.0  \n",
       "401    0.0718    0.234  152.037     300840.0  \n",
       "402    0.1580    0.389  111.995     251467.0  "
      ]
     },
     "execution_count": 9,
     "metadata": {},
     "output_type": "execute_result"
    }
   ],
   "source": [
    "df = pd.read_csv(\"este si.csv\")\n",
    "df = df.drop([\"url\",\"time_signature\",\"key\",\"instrumentalness\"], axis = 1)\n",
    "# eliminamos el 2016\n",
    "df = df[df.year > 2016]\n",
    "df.head(3)"
   ]
  },
  {
   "cell_type": "code",
   "execution_count": 12,
   "metadata": {},
   "outputs": [
    {
     "data": {
      "text/plain": [
       "Unnamed: 0               400\n",
       "position                 1.0\n",
       "year                  2017.0\n",
       "start             2017-01-06\n",
       "end               2017-01-13\n",
       "track_name      Shape of You\n",
       "artist            Ed Sheeran\n",
       "streams            3122661.0\n",
       "danceability           0.755\n",
       "energy                 0.613\n",
       "loudness              -3.183\n",
       "mode                     1.0\n",
       "speechiness            0.102\n",
       "acousticness           0.163\n",
       "liveness               0.106\n",
       "valence                0.446\n",
       "tempo                 95.977\n",
       "duration_ms         204347.0\n",
       "Name: 0, dtype: object"
      ]
     },
     "execution_count": 12,
     "metadata": {},
     "output_type": "execute_result"
    }
   ],
   "source": [
    "df.mode().iloc[0]\n"
   ]
  },
  {
   "cell_type": "code",
   "execution_count": 4,
   "metadata": {},
   "outputs": [
    {
     "data": {
      "text/plain": [
       "51800"
      ]
     },
     "execution_count": 4,
     "metadata": {},
     "output_type": "execute_result"
    }
   ],
   "source": [
    "len(df)"
   ]
  },
  {
   "cell_type": "code",
   "execution_count": 5,
   "metadata": {},
   "outputs": [
    {
     "data": {
      "text/plain": [
       "Unnamed: 0      0\n",
       "position        0\n",
       "year            0\n",
       "start           0\n",
       "end             0\n",
       "track_name      7\n",
       "artist          7\n",
       "streams         0\n",
       "danceability    7\n",
       "energy          7\n",
       "loudness        7\n",
       "mode            7\n",
       "speechiness     7\n",
       "acousticness    7\n",
       "liveness        7\n",
       "valence         7\n",
       "tempo           7\n",
       "duration_ms     7\n",
       "dtype: int64"
      ]
     },
     "execution_count": 5,
     "metadata": {},
     "output_type": "execute_result"
    }
   ],
   "source": [
    "df.isnull().sum()"
   ]
  },
  {
   "cell_type": "code",
   "execution_count": 6,
   "metadata": {},
   "outputs": [],
   "source": [
    "# Se votan los nulos\n",
    "df = df.dropna(axis = 0)"
   ]
  },
  {
   "cell_type": "code",
   "execution_count": 7,
   "metadata": {},
   "outputs": [
    {
     "data": {
      "text/plain": [
       "51793"
      ]
     },
     "execution_count": 7,
     "metadata": {},
     "output_type": "execute_result"
    }
   ],
   "source": [
    "len(df)"
   ]
  },
  {
   "cell_type": "code",
   "execution_count": 4,
   "metadata": {},
   "outputs": [
    {
     "data": {
      "text/plain": [
       "danceability         0.695500\n",
       "energy               0.634066\n",
       "loudness            -6.075959\n",
       "mode                 0.584944\n",
       "speechiness          0.113613\n",
       "acousticness         0.238332\n",
       "liveness             0.168832\n",
       "valence              0.507150\n",
       "tempo              120.120381\n",
       "duration_ms     206546.848628\n",
       "dtype: float64"
      ]
     },
     "execution_count": 4,
     "metadata": {},
     "output_type": "execute_result"
    }
   ],
   "source": [
    "df[['danceability',\n",
    "    'energy',\n",
    "    'loudness',\n",
    "    'mode',\n",
    "    'speechiness',\n",
    "    'acousticness',\n",
    "    'liveness',\n",
    "    'valence',\n",
    "    'tempo',\n",
    "    'duration_ms']].mean()"
   ]
  },
  {
   "cell_type": "code",
   "execution_count": 5,
   "metadata": {},
   "outputs": [
    {
     "data": {
      "text/plain": [
       "danceability        0.135465\n",
       "energy              0.161439\n",
       "loudness            2.359040\n",
       "mode                0.492736\n",
       "speechiness         0.101183\n",
       "acousticness        0.241766\n",
       "liveness            0.126840\n",
       "valence             0.222358\n",
       "tempo              29.177940\n",
       "duration_ms     42349.643623\n",
       "dtype: float64"
      ]
     },
     "execution_count": 5,
     "metadata": {},
     "output_type": "execute_result"
    }
   ],
   "source": [
    "df[['danceability',\n",
    "    'energy',\n",
    "    'loudness',\n",
    "    'mode',\n",
    "    'speechiness',\n",
    "    'acousticness',\n",
    "    'liveness',\n",
    "    'valence',\n",
    "    'tempo',\n",
    "    'duration_ms']].std()"
   ]
  },
  {
   "cell_type": "code",
   "execution_count": 9,
   "metadata": {},
   "outputs": [
    {
     "data": {
      "image/png": "[encoded data removed]",
      "text/plain": [
       "<Figure size 1440x432 with 1 Axes>"
      ]
     },
     "metadata": {
      "needs_background": "light"
     },
     "output_type": "display_data"
    }
   ],
   "source": [
    "graficar(df, \"Bohemian Rhapsody - Remastered 2011\",\"position\")"
   ]
  },
  {
   "cell_type": "code",
   "execution_count": 10,
   "metadata": {},
   "outputs": [
    {
     "data": {
      "text/plain": [
       "52.0"
      ]
     },
     "execution_count": 10,
     "metadata": {},
     "output_type": "execute_result"
    }
   ],
   "source": [
    "len(df[df.year == 2021])/200"
   ]
  },
  {
   "cell_type": "code",
   "execution_count": 11,
   "metadata": {},
   "outputs": [
    {
     "data": {
      "text/plain": [
       "Text(0, 0.5, 'streams')"
      ]
     },
     "execution_count": 11,
     "metadata": {},
     "output_type": "execute_result"
    },
    {
     "data": {
      "image/png": "[encoded data removed]",
      "text/plain": [
       "<Figure size 1440x432 with 1 Axes>"
      ]
     },
     "metadata": {
      "needs_background": "light"
     },
     "output_type": "display_data"
    }
   ],
   "source": [
    "\n",
    "name = \"Bohemian Rhapsody - Remastered 2011\"\n",
    "sng = df[df.track_name == name]\n",
    "sng.index = sng.start\n",
    "ax = sng[\"streams\"].plot(title = name, grid = True, figsize = (20,6))\n",
    "ax.set_xlabel(\"date\")\n",
    "ax.set_ylabel(\"streams\")"
   ]
  },
  {
   "cell_type": "code",
   "execution_count": 12,
   "metadata": {},
   "outputs": [
    {
     "data": {
      "text/html": [
       "<div>\n",
       "<style scoped>\n",
       "    .dataframe tbody tr th:only-of-type {\n",
       "        vertical-align: middle;\n",
       "    }\n",
       "\n",
       "    .dataframe tbody tr th {\n",
       "        vertical-align: top;\n",
       "    }\n",
       "\n",
       "    .dataframe thead th {\n",
       "        text-align: right;\n",
       "    }\n",
       "</style>\n",
       "<table border=\"1\" class=\"dataframe\">\n",
       "  <thead>\n",
       "    <tr style=\"text-align: right;\">\n",
       "      <th></th>\n",
       "      <th>Unnamed: 0</th>\n",
       "      <th>position</th>\n",
       "      <th>year</th>\n",
       "      <th>start</th>\n",
       "      <th>end</th>\n",
       "      <th>track_name</th>\n",
       "      <th>artist</th>\n",
       "      <th>streams</th>\n",
       "      <th>danceability</th>\n",
       "      <th>energy</th>\n",
       "      <th>loudness</th>\n",
       "      <th>mode</th>\n",
       "      <th>speechiness</th>\n",
       "      <th>acousticness</th>\n",
       "      <th>liveness</th>\n",
       "      <th>valence</th>\n",
       "      <th>tempo</th>\n",
       "      <th>duration_ms</th>\n",
       "    </tr>\n",
       "    <tr>\n",
       "      <th>start</th>\n",
       "      <th></th>\n",
       "      <th></th>\n",
       "      <th></th>\n",
       "      <th></th>\n",
       "      <th></th>\n",
       "      <th></th>\n",
       "      <th></th>\n",
       "      <th></th>\n",
       "      <th></th>\n",
       "      <th></th>\n",
       "      <th></th>\n",
       "      <th></th>\n",
       "      <th></th>\n",
       "      <th></th>\n",
       "      <th></th>\n",
       "      <th></th>\n",
       "      <th></th>\n",
       "      <th></th>\n",
       "    </tr>\n",
       "  </thead>\n",
       "  <tbody>\n",
       "    <tr>\n",
       "      <th>2018-07-20</th>\n",
       "      <td>16470</td>\n",
       "      <td>199</td>\n",
       "      <td>2018</td>\n",
       "      <td>2018-07-20</td>\n",
       "      <td>2018-07-27</td>\n",
       "      <td>Bohemian Rhapsody - Remastered 2011</td>\n",
       "      <td>Queen</td>\n",
       "      <td>3829831</td>\n",
       "      <td>0.414</td>\n",
       "      <td>0.404</td>\n",
       "      <td>-9.928</td>\n",
       "      <td>0.0</td>\n",
       "      <td>0.0499</td>\n",
       "      <td>0.271</td>\n",
       "      <td>0.3</td>\n",
       "      <td>0.224</td>\n",
       "      <td>71.105</td>\n",
       "      <td>354320.0</td>\n",
       "    </tr>\n",
       "    <tr>\n",
       "      <th>2018-07-27</th>\n",
       "      <td>16659</td>\n",
       "      <td>189</td>\n",
       "      <td>2018</td>\n",
       "      <td>2018-07-27</td>\n",
       "      <td>2018-08-03</td>\n",
       "      <td>Bohemian Rhapsody - Remastered 2011</td>\n",
       "      <td>Queen</td>\n",
       "      <td>3778619</td>\n",
       "      <td>0.414</td>\n",
       "      <td>0.404</td>\n",
       "      <td>-9.928</td>\n",
       "      <td>0.0</td>\n",
       "      <td>0.0499</td>\n",
       "      <td>0.271</td>\n",
       "      <td>0.3</td>\n",
       "      <td>0.224</td>\n",
       "      <td>71.105</td>\n",
       "      <td>354320.0</td>\n",
       "    </tr>\n",
       "    <tr>\n",
       "      <th>2018-08-31</th>\n",
       "      <td>17666</td>\n",
       "      <td>196</td>\n",
       "      <td>2018</td>\n",
       "      <td>2018-08-31</td>\n",
       "      <td>2018-09-07</td>\n",
       "      <td>Bohemian Rhapsody - Remastered 2011</td>\n",
       "      <td>Queen</td>\n",
       "      <td>3887047</td>\n",
       "      <td>0.414</td>\n",
       "      <td>0.404</td>\n",
       "      <td>-9.928</td>\n",
       "      <td>0.0</td>\n",
       "      <td>0.0499</td>\n",
       "      <td>0.271</td>\n",
       "      <td>0.3</td>\n",
       "      <td>0.224</td>\n",
       "      <td>71.105</td>\n",
       "      <td>354320.0</td>\n",
       "    </tr>\n",
       "    <tr>\n",
       "      <th>2018-09-07</th>\n",
       "      <td>17858</td>\n",
       "      <td>188</td>\n",
       "      <td>2018</td>\n",
       "      <td>2018-09-07</td>\n",
       "      <td>2018-09-14</td>\n",
       "      <td>Bohemian Rhapsody - Remastered 2011</td>\n",
       "      <td>Queen</td>\n",
       "      <td>4032727</td>\n",
       "      <td>0.414</td>\n",
       "      <td>0.404</td>\n",
       "      <td>-9.928</td>\n",
       "      <td>0.0</td>\n",
       "      <td>0.0499</td>\n",
       "      <td>0.271</td>\n",
       "      <td>0.3</td>\n",
       "      <td>0.224</td>\n",
       "      <td>71.105</td>\n",
       "      <td>354320.0</td>\n",
       "    </tr>\n",
       "    <tr>\n",
       "      <th>2018-09-14</th>\n",
       "      <td>18059</td>\n",
       "      <td>189</td>\n",
       "      <td>2018</td>\n",
       "      <td>2018-09-14</td>\n",
       "      <td>2018-09-21</td>\n",
       "      <td>Bohemian Rhapsody - Remastered 2011</td>\n",
       "      <td>Queen</td>\n",
       "      <td>4015563</td>\n",
       "      <td>0.414</td>\n",
       "      <td>0.404</td>\n",
       "      <td>-9.928</td>\n",
       "      <td>0.0</td>\n",
       "      <td>0.0499</td>\n",
       "      <td>0.271</td>\n",
       "      <td>0.3</td>\n",
       "      <td>0.224</td>\n",
       "      <td>71.105</td>\n",
       "      <td>354320.0</td>\n",
       "    </tr>\n",
       "    <tr>\n",
       "      <th>...</th>\n",
       "      <td>...</td>\n",
       "      <td>...</td>\n",
       "      <td>...</td>\n",
       "      <td>...</td>\n",
       "      <td>...</td>\n",
       "      <td>...</td>\n",
       "      <td>...</td>\n",
       "      <td>...</td>\n",
       "      <td>...</td>\n",
       "      <td>...</td>\n",
       "      <td>...</td>\n",
       "      <td>...</td>\n",
       "      <td>...</td>\n",
       "      <td>...</td>\n",
       "      <td>...</td>\n",
       "      <td>...</td>\n",
       "      <td>...</td>\n",
       "      <td>...</td>\n",
       "    </tr>\n",
       "    <tr>\n",
       "      <th>2021-11-26</th>\n",
       "      <td>51288</td>\n",
       "      <td>166</td>\n",
       "      <td>2021</td>\n",
       "      <td>2021-11-26</td>\n",
       "      <td>2021-12-03</td>\n",
       "      <td>Bohemian Rhapsody - Remastered 2011</td>\n",
       "      <td>Queen</td>\n",
       "      <td>5903399</td>\n",
       "      <td>0.414</td>\n",
       "      <td>0.404</td>\n",
       "      <td>-9.928</td>\n",
       "      <td>0.0</td>\n",
       "      <td>0.0499</td>\n",
       "      <td>0.271</td>\n",
       "      <td>0.3</td>\n",
       "      <td>0.224</td>\n",
       "      <td>71.105</td>\n",
       "      <td>354320.0</td>\n",
       "    </tr>\n",
       "    <tr>\n",
       "      <th>2021-12-03</th>\n",
       "      <td>51491</td>\n",
       "      <td>169</td>\n",
       "      <td>2021</td>\n",
       "      <td>2021-12-03</td>\n",
       "      <td>2021-12-10</td>\n",
       "      <td>Bohemian Rhapsody - Remastered 2011</td>\n",
       "      <td>Queen</td>\n",
       "      <td>6030365</td>\n",
       "      <td>0.414</td>\n",
       "      <td>0.404</td>\n",
       "      <td>-9.928</td>\n",
       "      <td>0.0</td>\n",
       "      <td>0.0499</td>\n",
       "      <td>0.271</td>\n",
       "      <td>0.3</td>\n",
       "      <td>0.224</td>\n",
       "      <td>71.105</td>\n",
       "      <td>354320.0</td>\n",
       "    </tr>\n",
       "    <tr>\n",
       "      <th>2021-12-10</th>\n",
       "      <td>51656</td>\n",
       "      <td>186</td>\n",
       "      <td>2021</td>\n",
       "      <td>2021-12-10</td>\n",
       "      <td>2021-12-17</td>\n",
       "      <td>Bohemian Rhapsody - Remastered 2011</td>\n",
       "      <td>Queen</td>\n",
       "      <td>5770618</td>\n",
       "      <td>0.414</td>\n",
       "      <td>0.404</td>\n",
       "      <td>-9.928</td>\n",
       "      <td>0.0</td>\n",
       "      <td>0.0499</td>\n",
       "      <td>0.271</td>\n",
       "      <td>0.3</td>\n",
       "      <td>0.224</td>\n",
       "      <td>71.105</td>\n",
       "      <td>354320.0</td>\n",
       "    </tr>\n",
       "    <tr>\n",
       "      <th>2021-12-17</th>\n",
       "      <td>51859</td>\n",
       "      <td>189</td>\n",
       "      <td>2021</td>\n",
       "      <td>2021-12-17</td>\n",
       "      <td>2021-12-24</td>\n",
       "      <td>Bohemian Rhapsody - Remastered 2011</td>\n",
       "      <td>Queen</td>\n",
       "      <td>5825439</td>\n",
       "      <td>0.414</td>\n",
       "      <td>0.404</td>\n",
       "      <td>-9.928</td>\n",
       "      <td>0.0</td>\n",
       "      <td>0.0499</td>\n",
       "      <td>0.271</td>\n",
       "      <td>0.3</td>\n",
       "      <td>0.224</td>\n",
       "      <td>71.105</td>\n",
       "      <td>354320.0</td>\n",
       "    </tr>\n",
       "    <tr>\n",
       "      <th>2021-12-24</th>\n",
       "      <td>52052</td>\n",
       "      <td>180</td>\n",
       "      <td>2021</td>\n",
       "      <td>2021-12-24</td>\n",
       "      <td>2021-12-31</td>\n",
       "      <td>Bohemian Rhapsody - Remastered 2011</td>\n",
       "      <td>Queen</td>\n",
       "      <td>5910354</td>\n",
       "      <td>0.414</td>\n",
       "      <td>0.404</td>\n",
       "      <td>-9.928</td>\n",
       "      <td>0.0</td>\n",
       "      <td>0.0499</td>\n",
       "      <td>0.271</td>\n",
       "      <td>0.3</td>\n",
       "      <td>0.224</td>\n",
       "      <td>71.105</td>\n",
       "      <td>354320.0</td>\n",
       "    </tr>\n",
       "  </tbody>\n",
       "</table>\n",
       "<p>169 rows × 18 columns</p>\n",
       "</div>"
      ],
      "text/plain": [
       "            Unnamed: 0  position  year       start         end  \\\n",
       "start                                                            \n",
       "2018-07-20       16470       199  2018  2018-07-20  2018-07-27   \n",
       "2018-07-27       16659       189  2018  2018-07-27  2018-08-03   \n",
       "2018-08-31       17666       196  2018  2018-08-31  2018-09-07   \n",
       "2018-09-07       17858       188  2018  2018-09-07  2018-09-14   \n",
       "2018-09-14       18059       189  2018  2018-09-14  2018-09-21   \n",
       "...                ...       ...   ...         ...         ...   \n",
       "2021-11-26       51288       166  2021  2021-11-26  2021-12-03   \n",
       "2021-12-03       51491       169  2021  2021-12-03  2021-12-10   \n",
       "2021-12-10       51656       186  2021  2021-12-10  2021-12-17   \n",
       "2021-12-17       51859       189  2021  2021-12-17  2021-12-24   \n",
       "2021-12-24       52052       180  2021  2021-12-24  2021-12-31   \n",
       "\n",
       "                                     track_name artist  streams  danceability  \\\n",
       "start                                                                           \n",
       "2018-07-20  Bohemian Rhapsody - Remastered 2011  Queen  3829831         0.414   \n",
       "2018-07-27  Bohemian Rhapsody - Remastered 2011  Queen  3778619         0.414   \n",
       "2018-08-31  Bohemian Rhapsody - Remastered 2011  Queen  3887047         0.414   \n",
       "2018-09-07  Bohemian Rhapsody - Remastered 2011  Queen  4032727         0.414   \n",
       "2018-09-14  Bohemian Rhapsody - Remastered 2011  Queen  4015563         0.414   \n",
       "...                                         ...    ...      ...           ...   \n",
       "2021-11-26  Bohemian Rhapsody - Remastered 2011  Queen  5903399         0.414   \n",
       "2021-12-03  Bohemian Rhapsody - Remastered 2011  Queen  6030365         0.414   \n",
       "2021-12-10  Bohemian Rhapsody - Remastered 2011  Queen  5770618         0.414   \n",
       "2021-12-17  Bohemian Rhapsody - Remastered 2011  Queen  5825439         0.414   \n",
       "2021-12-24  Bohemian Rhapsody - Remastered 2011  Queen  5910354         0.414   \n",
       "\n",
       "            energy  loudness  mode  speechiness  acousticness  liveness  \\\n",
       "start                                                                     \n",
       "2018-07-20   0.404    -9.928   0.0       0.0499         0.271       0.3   \n",
       "2018-07-27   0.404    -9.928   0.0       0.0499         0.271       0.3   \n",
       "2018-08-31   0.404    -9.928   0.0       0.0499         0.271       0.3   \n",
       "2018-09-07   0.404    -9.928   0.0       0.0499         0.271       0.3   \n",
       "2018-09-14   0.404    -9.928   0.0       0.0499         0.271       0.3   \n",
       "...            ...       ...   ...          ...           ...       ...   \n",
       "2021-11-26   0.404    -9.928   0.0       0.0499         0.271       0.3   \n",
       "2021-12-03   0.404    -9.928   0.0       0.0499         0.271       0.3   \n",
       "2021-12-10   0.404    -9.928   0.0       0.0499         0.271       0.3   \n",
       "2021-12-17   0.404    -9.928   0.0       0.0499         0.271       0.3   \n",
       "2021-12-24   0.404    -9.928   0.0       0.0499         0.271       0.3   \n",
       "\n",
       "            valence   tempo  duration_ms  \n",
       "start                                     \n",
       "2018-07-20    0.224  71.105     354320.0  \n",
       "2018-07-27    0.224  71.105     354320.0  \n",
       "2018-08-31    0.224  71.105     354320.0  \n",
       "2018-09-07    0.224  71.105     354320.0  \n",
       "2018-09-14    0.224  71.105     354320.0  \n",
       "...             ...     ...          ...  \n",
       "2021-11-26    0.224  71.105     354320.0  \n",
       "2021-12-03    0.224  71.105     354320.0  \n",
       "2021-12-10    0.224  71.105     354320.0  \n",
       "2021-12-17    0.224  71.105     354320.0  \n",
       "2021-12-24    0.224  71.105     354320.0  \n",
       "\n",
       "[169 rows x 18 columns]"
      ]
     },
     "execution_count": 12,
     "metadata": {},
     "output_type": "execute_result"
    }
   ],
   "source": [
    "sng"
   ]
  },
  {
   "cell_type": "code",
   "execution_count": null,
   "metadata": {},
   "outputs": [],
   "source": []
  },
  {
   "cell_type": "code",
   "execution_count": null,
   "metadata": {},
   "outputs": [],
   "source": []
  },
  {
   "cell_type": "code",
   "execution_count": null,
   "metadata": {},
   "outputs": [],
   "source": []
  },
  {
   "cell_type": "code",
   "execution_count": null,
   "metadata": {},
   "outputs": [],
   "source": []
  }
 ],
 "metadata": {
  "interpreter": {
   "hash": "843fd92092d224b47c16a68bd4bca3fc6a9bbbdfa33fd8038d7a6787e0fa4720"
  },
  "kernelspec": {
   "display_name": "Python 3.8.8 ('base')",
   "language": "python",
   "name": "python3"
  },
  "language_info": {
   "codemirror_mode": {
    "name": "ipython",
    "version": 3
   },
   "file_extension": ".py",
   "mimetype": "text/x-python",
   "name": "python",
   "nbconvert_exporter": "python",
   "pygments_lexer": "ipython3",
   "version": "3.8.8"
  },
  "orig_nbformat": 4
 },
 "nbformat": 4,
 "nbformat_minor": 2
}
