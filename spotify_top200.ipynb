{
  "cells": [
    {
      "cell_type": "code",
      "execution_count": null,
      "metadata": {
        "id": "-sioQ8K5EBER"
      },
      "outputs": [],
      "source": [
        "import pandas as pd\n",
        "import matplotlib.pyplot as plt\n",
        "import seaborn as sns\n",
        "import numpy as np\n",
        "import matplotlib.dates as md\n",
        "from scipy.stats import pearsonr #calculate correlation coefficient\n",
        "from scipy import stats\n",
        "import calendar"
      ]
    },
    {
      "cell_type": "code",
      "execution_count": null,
      "metadata": {
        "colab": {
          "base_uri": "https://localhost:8080/",
          "height": 35
        },
        "id": "KGPgZPTXJ5p5",
        "outputId": "1707d4d1-2775-4b0b-9c84-245daa49e140"
      },
      "outputs": [],
      "source": [
        "\"https://www.codecademy.com/article/seaborn-design-i\""
      ]
    },
    {
      "cell_type": "code",
      "execution_count": null,
      "metadata": {
        "id": "r8Tp9osAKNXb"
      },
      "outputs": [],
      "source": [
        "# datos random\n",
        "\n",
        "spotify_green = (29/255, 185/255, 84/255, 1)\n",
        "spotify_black = (25/255, 20/255, 20/255, 1)\n",
        "spotify_blue = (85/255, 156/255, 242/255, 1)\n",
        "spotify_purple = (65/255, 0/255, 245/255, 1)\n",
        "spotify_white = (1,1,1,1)\n",
        "\n",
        "spotify_palette = [\n",
        "                spotify_green,\n",
        "                spotify_black,\n",
        "                spotify_blue,\n",
        "                spotify_purple,\n",
        "                spotify_white\n",
        "                ]\n",
        "palette = sns.color_palette(spotify_palette, 5)"
      ]
    },
    {
      "cell_type": "markdown",
      "metadata": {
        "id": "l7KTXvawEBES"
      },
      "source": [
        "# 1. Importar datos y filtrar"
      ]
    },
    {
      "cell_type": "code",
      "execution_count": null,
      "metadata": {
        "id": "nigfzrarEBEY"
      },
      "outputs": [],
      "source": [
        "df = pd.read_csv(\"https://raw.githubusercontent.com/PabloReyesPolanco/spotify/master/Spotify%20Weekly.csv\")\n",
        "df = df.drop([\"url\",\"time_signature\",\"key\",\"mode\"], axis = 1)\n",
        "df = df[df.year > 2016]\n",
        "df = df.dropna(axis = 0)\n",
        "df[\"duration_s\"] = df[\"duration_ms\"]/1000\n",
        "df = df.sort_values([\"start\",\"position\"])\n",
        "df['start'] = pd.to_datetime(df['start'], format = '%Y-%m-%d')\n",
        "#df.columns = [\"posición\", \"año\", \"semana\",\"semana_fin\", \"nombre_canción\", \"artista\", \"reproducciones\", \"danzabilidad\", \"energía\", \"volumen\", \"habladuría\", \"acusticidad\", \"instrumentalidad\", \"viveza\", \"valencia\", \"tempo\", \"duracion_ms\", \"duracion_s\", \"duracion_m,\"]\n",
        "\n",
        "df.reset_index(drop=True, inplace=True)\n",
        "# df = df.set_index(\"start\")\n",
        "# aa = [\"danzabilidad\", \"energía\", \"volumen\", \"habladuría\", \"acusticidad\", \"instrumentalidad\", \"viveza\", \"valencia\", \"tempo\", \"duracion_ms\"]\n",
        "aa =  ['danceability', 'energy', 'loudness', 'speechiness', 'acousticness', 'instrumentalness', 'liveness', 'valence', 'tempo', 'duration_s']\n",
        "a2 = ['danceability', 'energy', 'loudness', 'speechiness', 'instrumentalness', 'liveness', 'valence', 'tempo', 'duration_s']"
      ]
    },
    {
      "cell_type": "code",
      "execution_count": 25,
      "metadata": {
        "colab": {
          "base_uri": "https://localhost:8080/",
          "height": 35
        },
        "id": "7PlyaF0b7fud",
        "outputId": "aacb70e5-5d04-4c48-8ee8-21ea9975773c"
      },
      "outputs": [],
      "source": [
        "def heatmap(df, nombre, vars = aa):\n",
        "    df = df[vars]\n",
        "    cormat = df.corr()\n",
        "    f, ax = plt.subplots(figsize=(10,8))\n",
        "    sns.heatmap(cormat, vmax= .85, square=True)\n",
        "    k = 10\n",
        "    cols = cormat.nlargest(k,vars[2])[vars[2]].index\n",
        "    cm = np.corrcoef(df[cols].values.T)\n",
        "    sns.set(font_scale=1.25)\n",
        "    hm = sns.heatmap(cm, cbar=False, annot=True, square=True, fmt=\".2f\", annot_kws={\"size\": 10}, yticklabels=cols.values, xticklabels=cols.values)\n",
        "    # plt.show()\n",
        "    plt.savefig(nombre, transparent = False)\n",
        "    plt.close()\n",
        "\n",
        "def pairplot(df, vars, nombre):\n",
        "    sns.pairplot(df[vars]) # ,\"valence\"\n",
        "    # plt.show()\n",
        "    plt.savefig(nombre, transparent = False)\n",
        "    plt.close()\n",
        "\n",
        "def histogram(df, var, nombre):\n",
        "    #set figure\n",
        "    f, ax = plt.subplots(1,1, figsize = (10,8))#graph histogram\n",
        "    plt.hist(df[var], bins=10, alpha=0.75, color = spotify_green , label=var.title())\n",
        "    plt.legend(loc='upper right')#set title & axis titles\n",
        "    ax.set_title(f'{var.title()} Histogram', fontsize=20)\n",
        "    ax.set_xlabel(var.title())\n",
        "    ax.set_ylabel('Frequency')#set x & y ranges\n",
        "    # plt.xlim(0,1)\n",
        "    # plt.ylim(0, len())\n",
        "    # plt.show()\n",
        "    plt.savefig(nombre, transparent = False)\n",
        "    plt.close()\n",
        "\n",
        "def reg_plot(df, var1, var2, nombre):\n",
        "    f, ax = plt.subplots(figsize=(10,8))\n",
        "    corr = pearsonr(df[var1], df[var2])\n",
        "    corr = [np.round(c, 2) for c in corr] #add the coefficient to your graph\n",
        "    text = 'r=%s' % (corr[0])\n",
        "    sns.regplot(x=var1, y=var2, data=df, color = spotify_green)\n",
        "    ax.legend([text])\n",
        "    plt.savefig(nombre, transparent = False)\n",
        "    plt.close()\n",
        "\n",
        "def time_series(data, var, nombre ,trendline = False, rolling_average = False, IC = False,rolling_size = 4, aux = True):\n",
        "    fig, ax = plt.subplots(figsize = (16,10))\n",
        "    labels = []\n",
        "    sns.lineplot(data = data, x = \"start\", y = var , color = spotify_green)\n",
        "    labels.append(var)\n",
        "\n",
        "    if rolling_average:\n",
        "        data[\"media_movil\"] = data[var].rolling(rolling_size).mean()\n",
        "        sns.lineplot(data = data, x = \"start\", y = \"media_movil\", color = spotify_purple)\n",
        "        labels.append(\"Media Móvil\")\n",
        "    if trendline: # como chucha hago la trendlin    \n",
        "        data[\"x\"] = [i for i in range(len(data))]\n",
        "        slope, intercept, r_value, pv, se = stats.linregress(data[\"x\"], data[var])\n",
        "        data[\"reg\"] = data[\"x\"] * slope + intercept\n",
        "        sns.lineplot(data = data, x = \"start\", y = \"reg\", color = spotify_blue)\n",
        "        labels.append(f\"Tendencia, r={r_value:.2f}\")\n",
        "        if IC:\n",
        "            data[\"sup\"] = data[\"reg\"] + 1.96 * data[var].std()/np.sqrt(len(data[var]))\n",
        "            data[\"inf\"] = data[\"reg\"] - 1.96 *data[var].std()/np.sqrt(len(data[var]))\n",
        "            sns.lineplot(data = data, x = \"start\", y = \"sup\", color = \"red\")\n",
        "            sns.lineplot(data = data, x = \"start\", y = \"inf\", color = \"red\")\n",
        "\n",
        "    if aux:\n",
        "\n",
        "        years = md.YearLocator()   # every year\n",
        "        months = md.MonthLocator()  # every month\n",
        "        years_fmt = md.DateFormatter('%Y-%m')\n",
        "\n",
        "        ax.xaxis.set_major_locator(months)\n",
        "        ax.xaxis.set_major_formatter(years_fmt)\n",
        "        ax.xaxis.set_minor_locator(months)\n",
        "\n",
        "    # ax.xaxis.label.set_color(spotify_white)\n",
        "    # ax.yaxis.label.set_color(spotify_white)\n",
        "    # ax.tick_params(axis='x', colors=spotify_white)\n",
        "    # ax.tick_params(axis='y', colors=spotify_white)\n",
        "\n",
        "    # for _,s in ax.spines.items():\n",
        "    #     s.set_color(spotify_white)\n",
        "\n",
        "    plt.xticks(rotation = 'vertical')\n",
        "    plt.legend(labels=labels)\n",
        "    # plt.show()\n",
        "    plt.savefig(nombre, transparent = False)\n",
        "    plt.close()\n",
        "\n",
        "def barplot(df, var, nombre = \"a\"):\n",
        "\n",
        "    fig, ax = plt.subplots(figsize = (16,10))\n",
        "\n",
        "    sns.barplot(data = df, x = \"start\", y = var , color = spotify_green, estimator=np.mean, ci=95,capsize=.2)\n",
        "\n",
        "    plt.xticks(rotation = 'vertical')\n",
        "    # plt.legend(labels=labels)\n",
        "    # plt.show()\n",
        "    std = df[var].std()\n",
        "    plt.ylim(min(df[var]-std), max[df[var]]+std)\n",
        "    plt.savefig(nombre, transparent = False)\n",
        "    plt.close()\n",
        "\n",
        "\"https://stackoverflow.com/questions/43159528/error-bars-with-seaborn-and-stripplot\"\n",
        "\n",
        "def var_mensual(mensual, n):\n",
        "    mensual[\"hue\"] = [False]*n + [True]*(12-n)\n",
        "    a1 = mensual[mensual.hue == False].drop([\"start\",\"hue\"], axis = 1).transpose().reset_index()\n",
        "    a2 = mensual[mensual.hue == True].drop([\"start\",\"hue\"], axis = 1).transpose().reset_index()\n",
        "    a1 = pd.melt(a1, id_vars='index', value_name='valor').drop([\"variable\"], axis = 1)\n",
        "    a2 = pd.melt(a2, id_vars='index', value_name='valor').drop([\"variable\"], axis = 1)\n",
        "    a1[\"periodo\"] = \"inicio\"\n",
        "    a2[\"periodo\"] = \"fin\"\n",
        "\n",
        "    aux = pd.concat([a1,a2], axis = 0)\n",
        "    aux.columns = [\"feature\", \"valor\", \"periodo\"]\n",
        "\n",
        "    fig, ax = plt.subplots(figsize = (16,10))\n",
        "    sns.barplot(x='feature', y='valor', ci = \"sd\", data=aux, hue = \"periodo\", palette = [spotify_green, spotify_blue])\n",
        "    plt.savefig(f\"figuras/Primeros {n} meses vs el resto\")\n",
        "    plt.close()"
      ]
    },
    {
      "cell_type": "code",
      "execution_count": 26,
      "metadata": {
        "id": "nQVP5WhzEBEi"
      },
      "outputs": [],
      "source": [
        "semanal = df.groupby(\"start\", as_index = False).agg(\n",
        "    danceability = (\"danceability\",\"mean\"),\n",
        "    energy = (\"energy\",\"mean\"),\n",
        "    loudness = (\"loudness\",\"mean\"),\n",
        "    speechiness = (\"speechiness\",\"mean\"),\n",
        "    acousticness = (\"acousticness\",\"mean\"),\n",
        "    instrumentalness = (\"instrumentalness\",\"mean\"),\n",
        "    liveness = (\"liveness\",\"mean\"),\n",
        "    valence = (\"valence\",\"mean\"),\n",
        "    tempo = (\"tempo\",\"mean\"),\n",
        "    duration_s = (\"duration_s\",\"mean\")\n",
        "    )\n",
        "\n",
        "semanal[\"id\"] = [i for i in range(len(semanal))]\n"
      ]
    },
    {
      "cell_type": "code",
      "execution_count": 27,
      "metadata": {
        "colab": {
          "base_uri": "https://localhost:8080/",
          "height": 443
        },
        "id": "0kn8YXt-n4ZE",
        "outputId": "794e5059-d9ca-43c8-d256-50ce9f42075f"
      },
      "outputs": [
        {
          "data": {
            "text/html": [
              "<div>\n",
              "<style scoped>\n",
              "    .dataframe tbody tr th:only-of-type {\n",
              "        vertical-align: middle;\n",
              "    }\n",
              "\n",
              "    .dataframe tbody tr th {\n",
              "        vertical-align: top;\n",
              "    }\n",
              "\n",
              "    .dataframe thead th {\n",
              "        text-align: right;\n",
              "    }\n",
              "</style>\n",
              "<table border=\"1\" class=\"dataframe\">\n",
              "  <thead>\n",
              "    <tr style=\"text-align: right;\">\n",
              "      <th></th>\n",
              "      <th>start</th>\n",
              "      <th>danceability</th>\n",
              "      <th>energy</th>\n",
              "      <th>loudness</th>\n",
              "      <th>speechiness</th>\n",
              "      <th>acousticness</th>\n",
              "      <th>instrumentalness</th>\n",
              "      <th>liveness</th>\n",
              "      <th>valence</th>\n",
              "      <th>tempo</th>\n",
              "      <th>duration_s</th>\n",
              "    </tr>\n",
              "  </thead>\n",
              "  <tbody>\n",
              "    <tr>\n",
              "      <th>0</th>\n",
              "      <td>Jan</td>\n",
              "      <td>0.693643</td>\n",
              "      <td>-0.596643</td>\n",
              "      <td>0.006331</td>\n",
              "      <td>0.372745</td>\n",
              "      <td>-0.380929</td>\n",
              "      <td>-0.283651</td>\n",
              "      <td>-0.970631</td>\n",
              "      <td>-0.230305</td>\n",
              "      <td>-0.106913</td>\n",
              "      <td>0.609684</td>\n",
              "    </tr>\n",
              "    <tr>\n",
              "      <th>1</th>\n",
              "      <td>Feb</td>\n",
              "      <td>0.182921</td>\n",
              "      <td>-0.111100</td>\n",
              "      <td>0.152987</td>\n",
              "      <td>0.386993</td>\n",
              "      <td>-0.572057</td>\n",
              "      <td>-1.163176</td>\n",
              "      <td>-1.445704</td>\n",
              "      <td>-1.100029</td>\n",
              "      <td>-0.406475</td>\n",
              "      <td>1.630230</td>\n",
              "    </tr>\n",
              "    <tr>\n",
              "      <th>2</th>\n",
              "      <td>Mar</td>\n",
              "      <td>0.476105</td>\n",
              "      <td>-0.315996</td>\n",
              "      <td>-0.116772</td>\n",
              "      <td>0.534164</td>\n",
              "      <td>-0.412180</td>\n",
              "      <td>-0.146988</td>\n",
              "      <td>-0.428648</td>\n",
              "      <td>-1.348749</td>\n",
              "      <td>-1.314417</td>\n",
              "      <td>0.817591</td>\n",
              "    </tr>\n",
              "    <tr>\n",
              "      <th>3</th>\n",
              "      <td>Apr</td>\n",
              "      <td>0.372069</td>\n",
              "      <td>0.083331</td>\n",
              "      <td>-0.102437</td>\n",
              "      <td>0.417736</td>\n",
              "      <td>-0.343156</td>\n",
              "      <td>1.533611</td>\n",
              "      <td>0.535127</td>\n",
              "      <td>-0.778576</td>\n",
              "      <td>-1.030911</td>\n",
              "      <td>0.216145</td>\n",
              "    </tr>\n",
              "    <tr>\n",
              "      <th>4</th>\n",
              "      <td>May</td>\n",
              "      <td>0.518873</td>\n",
              "      <td>0.621354</td>\n",
              "      <td>0.392765</td>\n",
              "      <td>0.407781</td>\n",
              "      <td>-0.470549</td>\n",
              "      <td>1.365229</td>\n",
              "      <td>1.427211</td>\n",
              "      <td>-0.418754</td>\n",
              "      <td>-0.803095</td>\n",
              "      <td>0.227989</td>\n",
              "    </tr>\n",
              "    <tr>\n",
              "      <th>5</th>\n",
              "      <td>Jun</td>\n",
              "      <td>0.369693</td>\n",
              "      <td>1.056120</td>\n",
              "      <td>0.700786</td>\n",
              "      <td>0.576244</td>\n",
              "      <td>-0.778155</td>\n",
              "      <td>-1.744459</td>\n",
              "      <td>0.576445</td>\n",
              "      <td>0.294435</td>\n",
              "      <td>-0.058097</td>\n",
              "      <td>0.370420</td>\n",
              "    </tr>\n",
              "    <tr>\n",
              "      <th>6</th>\n",
              "      <td>Jul</td>\n",
              "      <td>0.298475</td>\n",
              "      <td>0.644504</td>\n",
              "      <td>0.194468</td>\n",
              "      <td>0.565182</td>\n",
              "      <td>-0.227742</td>\n",
              "      <td>0.233079</td>\n",
              "      <td>0.770621</td>\n",
              "      <td>0.488831</td>\n",
              "      <td>-0.355487</td>\n",
              "      <td>-0.234568</td>\n",
              "    </tr>\n",
              "    <tr>\n",
              "      <th>7</th>\n",
              "      <td>Aug</td>\n",
              "      <td>0.581507</td>\n",
              "      <td>0.607068</td>\n",
              "      <td>0.418940</td>\n",
              "      <td>0.149517</td>\n",
              "      <td>-0.018382</td>\n",
              "      <td>0.123673</td>\n",
              "      <td>-0.415223</td>\n",
              "      <td>0.263345</td>\n",
              "      <td>-0.807863</td>\n",
              "      <td>0.168037</td>\n",
              "    </tr>\n",
              "    <tr>\n",
              "      <th>8</th>\n",
              "      <td>Sep</td>\n",
              "      <td>0.479804</td>\n",
              "      <td>0.723844</td>\n",
              "      <td>0.871772</td>\n",
              "      <td>0.686417</td>\n",
              "      <td>-0.412510</td>\n",
              "      <td>-0.661390</td>\n",
              "      <td>-0.576641</td>\n",
              "      <td>0.043695</td>\n",
              "      <td>0.552483</td>\n",
              "      <td>0.310562</td>\n",
              "    </tr>\n",
              "    <tr>\n",
              "      <th>9</th>\n",
              "      <td>Oct</td>\n",
              "      <td>-0.059025</td>\n",
              "      <td>0.749235</td>\n",
              "      <td>0.842654</td>\n",
              "      <td>-0.311069</td>\n",
              "      <td>-0.176024</td>\n",
              "      <td>0.468514</td>\n",
              "      <td>-1.037798</td>\n",
              "      <td>0.087623</td>\n",
              "      <td>1.585901</td>\n",
              "      <td>-0.656217</td>\n",
              "    </tr>\n",
              "    <tr>\n",
              "      <th>10</th>\n",
              "      <td>Nov</td>\n",
              "      <td>-1.122318</td>\n",
              "      <td>-0.968479</td>\n",
              "      <td>-0.461351</td>\n",
              "      <td>-0.976993</td>\n",
              "      <td>0.903051</td>\n",
              "      <td>-0.734424</td>\n",
              "      <td>-0.146815</td>\n",
              "      <td>0.106111</td>\n",
              "      <td>1.277467</td>\n",
              "      <td>-1.244864</td>\n",
              "    </tr>\n",
              "    <tr>\n",
              "      <th>11</th>\n",
              "      <td>Dec</td>\n",
              "      <td>-2.791748</td>\n",
              "      <td>-2.493238</td>\n",
              "      <td>-2.900144</td>\n",
              "      <td>-2.808716</td>\n",
              "      <td>2.888633</td>\n",
              "      <td>1.009982</td>\n",
              "      <td>1.712056</td>\n",
              "      <td>2.592372</td>\n",
              "      <td>1.467408</td>\n",
              "      <td>-2.215008</td>\n",
              "    </tr>\n",
              "  </tbody>\n",
              "</table>\n",
              "</div>"
            ],
            "text/plain": [
              "   start  danceability    energy  loudness  speechiness  acousticness  \\\n",
              "0    Jan      0.693643 -0.596643  0.006331     0.372745     -0.380929   \n",
              "1    Feb      0.182921 -0.111100  0.152987     0.386993     -0.572057   \n",
              "2    Mar      0.476105 -0.315996 -0.116772     0.534164     -0.412180   \n",
              "3    Apr      0.372069  0.083331 -0.102437     0.417736     -0.343156   \n",
              "4    May      0.518873  0.621354  0.392765     0.407781     -0.470549   \n",
              "5    Jun      0.369693  1.056120  0.700786     0.576244     -0.778155   \n",
              "6    Jul      0.298475  0.644504  0.194468     0.565182     -0.227742   \n",
              "7    Aug      0.581507  0.607068  0.418940     0.149517     -0.018382   \n",
              "8    Sep      0.479804  0.723844  0.871772     0.686417     -0.412510   \n",
              "9    Oct     -0.059025  0.749235  0.842654    -0.311069     -0.176024   \n",
              "10   Nov     -1.122318 -0.968479 -0.461351    -0.976993      0.903051   \n",
              "11   Dec     -2.791748 -2.493238 -2.900144    -2.808716      2.888633   \n",
              "\n",
              "    instrumentalness  liveness   valence     tempo  duration_s  \n",
              "0          -0.283651 -0.970631 -0.230305 -0.106913    0.609684  \n",
              "1          -1.163176 -1.445704 -1.100029 -0.406475    1.630230  \n",
              "2          -0.146988 -0.428648 -1.348749 -1.314417    0.817591  \n",
              "3           1.533611  0.535127 -0.778576 -1.030911    0.216145  \n",
              "4           1.365229  1.427211 -0.418754 -0.803095    0.227989  \n",
              "5          -1.744459  0.576445  0.294435 -0.058097    0.370420  \n",
              "6           0.233079  0.770621  0.488831 -0.355487   -0.234568  \n",
              "7           0.123673 -0.415223  0.263345 -0.807863    0.168037  \n",
              "8          -0.661390 -0.576641  0.043695  0.552483    0.310562  \n",
              "9           0.468514 -1.037798  0.087623  1.585901   -0.656217  \n",
              "10         -0.734424 -0.146815  0.106111  1.277467   -1.244864  \n",
              "11          1.009982  1.712056  2.592372  1.467408   -2.215008  "
            ]
          },
          "execution_count": 27,
          "metadata": {},
          "output_type": "execute_result"
        }
      ],
      "source": [
        "\n",
        "mensual = semanal.groupby(semanal['start'].dt.month).mean()\n",
        "mensual = mensual.reset_index()\n",
        "mensual = mensual.drop([\"id\"], axis = 1)\n",
        "mensual['start'] = mensual['start'].apply(lambda x: calendar.month_abbr[x])\n",
        "\n",
        "aux = mensual.pop(\"start\")\n",
        "mensual=(mensual-mensual.mean())/mensual.std()\n",
        "# (mensual-mensual.min())/(mensual.max()-mensual.min())\n",
        "mensual.insert(0, \"start\", aux)\n",
        "mensual\n",
        "# mensual.set_index(\"start\", inplace = True)"
      ]
    },
    {
      "cell_type": "code",
      "execution_count": 38,
      "metadata": {
        "id": "mld3NSF7rkoX"
      },
      "outputs": [],
      "source": [
        "aux_mean = mensual.groupby(\"hue\").mean().transpose().reset_index()\n",
        "aux_std = mensual.groupby(\"hue\").std().transpose().reset_index().fillna(0)\n",
        "aux_mean.columns = [\"feature\", \"inicio\", \"fin\"]\n",
        "aux_std.columns = [\"feature\", \"inicio\", \"fin\"]\n",
        "# aux = pd.merge(aux_mean, aux_std,how = \"inner\", on=\"feature\")\n",
        "# aux\n",
        "\n",
        "aux_mean = pd.melt(aux_mean, id_vars='feature', value_vars=[\"inicio\",\"fin\"], value_name='valor')\n",
        "aux_mean.columns = [\"feature\",\"periodo\",\"valor\"]\n",
        "aux_std = pd.melt(aux_std, id_vars='feature', value_vars=[\"inicio\",\"fin\"], value_name='valor')\n",
        "aux_std.columns = [\"feature\",\"periodo\",\"valor\"]"
      ]
    },
    {
      "cell_type": "code",
      "execution_count": 39,
      "metadata": {
        "colab": {
          "base_uri": "https://localhost:8080/",
          "height": 629
        },
        "id": "f1cALWvd81Ei",
        "outputId": "1850bb7d-a864-4aea-f4e5-74606d5a7cc8"
      },
      "outputs": [],
      "source": [
        "for i in range(9,12):\n",
        "    var_mensual(mensual, i)"
      ]
    },
    {
      "cell_type": "code",
      "execution_count": 40,
      "metadata": {
        "colab": {
          "base_uri": "https://localhost:8080/"
        },
        "id": "2AWqYRwnjpqz",
        "outputId": "8f5dcaca-f296-49c1-995c-ca1bbdb94fe1"
      },
      "outputs": [
        {
          "name": "stdout",
          "output_type": "stream",
          "text": [
            "danceability: \n",
            "[-2.5491352256161948, -1.9584552725913769]\n",
            "energy: \n",
            "[-2.6104947969895025, -1.8428211719392382]\n",
            "loudness: \n",
            "[-2.516077135065916, -2.011221728523619]\n",
            "speechiness: \n",
            "[-2.544483398475477, -1.9661922702811727]\n",
            "acousticness: \n",
            "[2.005195835496672, 2.5200101109140642]\n",
            "instrumentalness: \n",
            "[0.504196724977718, 1.679436404844216]\n",
            "liveness: \n",
            "[0.6336376408315464, 1.6776453544792882]\n",
            "valence: \n",
            "[1.8777272888475929, 2.593613022938129]\n",
            "tempo: \n",
            "[0.5837435112585041, 1.6830578938578817]\n",
            "duration_s: \n",
            "[-2.6454800739725743, -1.7572486773323681]\n"
          ]
        }
      ],
      "source": [
        "for i in aa:\n",
        "    g1 = mensual[mensual.hue == False]\n",
        "    g2 = mensual[mensual.hue == True]\n",
        "    g1_n, g2_n = len(g1), len(g2)\n",
        "    if g2_n != 1:\n",
        "        g1_mean, g2_mean = g1[i].mean(), g2[i].mean()\n",
        "        g1_std, g2_std = g1[i].std(), g2[i].std()\n",
        "        \n",
        "    else:\n",
        "        g1_mean, g2_mean = g1[i].mean(), int(g2[i])\n",
        "        g1_std, g2_std = g1[i].std(), 0\n",
        "\n",
        "    dif = g2_mean - g1_mean\n",
        "    std = (g1_std**2/g1_n + g2_std**2/g2_n)**(1/2)\n",
        "    intervalo = [dif - 1.96*std,dif +1.96*std]\n",
        "    if intervalo[0]*intervalo[1] > 0:\n",
        "        print(f\"{i}: \")\n",
        "        print(intervalo)"
      ]
    },
    {
      "cell_type": "code",
      "execution_count": 41,
      "metadata": {
        "colab": {
          "base_uri": "https://localhost:8080/",
          "height": 1000
        },
        "id": "3EhGvGVhcSU3",
        "outputId": "b7b28719-f646-40ab-f1d5-8eb7a5e05d0c"
      },
      "outputs": [],
      "source": [
        "for i in aa:\n",
        "    time_series(mensual.reset_index(), i, nombre = f\"figuras/series tiempo mensual/timeserie {i}\", aux = False)"
      ]
    },
    {
      "cell_type": "code",
      "execution_count": 42,
      "metadata": {
        "colab": {
          "base_uri": "https://localhost:8080/",
          "height": 595
        },
        "id": "WL1EkWmKEBEd",
        "outputId": "e11fdcf0-203e-4148-9545-160101995a95"
      },
      "outputs": [],
      "source": [
        "heatmap(mensual, vars = aa, nombre = \"figuras/mapas calor/heatmap semanal\")\n",
        "heatmap(df, vars = aa + [\"position\"], nombre = \"figuras/mapas calor/heatmap global\")"
      ]
    },
    {
      "cell_type": "code",
      "execution_count": 43,
      "metadata": {
        "colab": {
          "base_uri": "https://localhost:8080/",
          "height": 1000
        },
        "id": "gO30zr3zEC65",
        "outputId": "286d11f5-1c35-4c59-b3c6-9261a42c5c36"
      },
      "outputs": [],
      "source": [
        "for i in aa:\n",
        "    histogram(semanal, i, nombre = f\"figuras/histogramas/hist {i}\")"
      ]
    },
    {
      "cell_type": "code",
      "execution_count": 44,
      "metadata": {
        "colab": {
          "base_uri": "https://localhost:8080/",
          "height": 1000
        },
        "id": "p7IqleGYEWNU",
        "outputId": "1bfa2469-f190-4876-d15a-b9b2b395c9b6"
      },
      "outputs": [],
      "source": [
        "for it, var1 in enumerate(aa):\n",
        "    for var2 in aa[it+1:]:\n",
        "        reg_plot(semanal, var1, var2, nombre = f\"figuras/regresion semanal/reg_week {var1} vs {var2}\")"
      ]
    },
    {
      "cell_type": "code",
      "execution_count": 45,
      "metadata": {
        "colab": {
          "base_uri": "https://localhost:8080/",
          "height": 1000
        },
        "id": "VD3bgc4T3p41",
        "outputId": "fafaa02a-e4b7-44de-bb3a-8b1df05b9890"
      },
      "outputs": [],
      "source": [
        "for it, var1 in enumerate(aa):\n",
        "    for var2 in aa[it+1:]:\n",
        "        reg_plot(df, var1, var2, nombre = f\"figuras/regresion global/reg_global {var1} vs {var2}\")\n",
        "\n",
        "      "
      ]
    },
    {
      "cell_type": "code",
      "execution_count": 46,
      "metadata": {
        "colab": {
          "base_uri": "https://localhost:8080/",
          "height": 1000
        },
        "id": "B37G5qjAnbeJ",
        "outputId": "e9071f6a-11f2-4441-fe0d-65dc982f8b97"
      },
      "outputs": [],
      "source": [
        "for i in aa:\n",
        "    time_series(semanal, i, trendline = True, rolling_average = True, rolling_size = 4, nombre = f\"figuras/series tiempo semanal/timeseries {i}\")"
      ]
    },
    {
      "cell_type": "code",
      "execution_count": 47,
      "metadata": {
        "colab": {
          "base_uri": "https://localhost:8080/",
          "height": 1000
        },
        "id": "HjrFey-D6GRp",
        "outputId": "0d9477ac-7a5c-4dd6-ba39-35a76ff60cb6"
      },
      "outputs": [],
      "source": [
        "for i in aa:\n",
        "    time_series(df, i, trendline = \"True\", nombre = f\"figuras/series tiempo global/timeserie_global {i}\")"
      ]
    },
    {
      "cell_type": "code",
      "execution_count": 48,
      "metadata": {
        "colab": {
          "base_uri": "https://localhost:8080/"
        },
        "id": "Ax8OPYxOO71R",
        "outputId": "58a2fdc6-92c7-4373-c150-4d02e1be7316"
      },
      "outputs": [
        {
          "name": "stderr",
          "output_type": "stream",
          "text": [
            "<ipython-input-48-5a07f1c8fc73>:1: FutureWarning: DataFrame.mean and DataFrame.median with numeric_only=None will include datetime64 and datetime64tz columns in a future version.\n",
            "  mean = df.drop_duplicates(\"track_name\").mean()\n"
          ]
        },
        {
          "data": {
            "text/plain": [
              "acousticness        1.048899\n",
              "danceability        0.206647\n",
              "duration_ms         0.237507\n",
              "duration_s          0.237507\n",
              "energy              0.260291\n",
              "instrumentalness    6.333953\n",
              "liveness            0.763157\n",
              "loudness           -0.403625\n",
              "position            0.564344\n",
              "reg                 0.031962\n",
              "speechiness         0.911765\n",
              "start                    NaT\n",
              "streams             0.802342\n",
              "tempo               0.244375\n",
              "valence             0.459569\n",
              "x                   0.611935\n",
              "year                  0.0007\n",
              "dtype: object"
            ]
          },
          "execution_count": 48,
          "metadata": {},
          "output_type": "execute_result"
        }
      ],
      "source": [
        "mean = df.drop_duplicates(\"track_name\").mean()\n",
        "std = df.drop_duplicates(\"track_name\").std()\n",
        "std/mean"
      ]
    },
    {
      "cell_type": "code",
      "execution_count": 49,
      "metadata": {
        "colab": {
          "base_uri": "https://localhost:8080/",
          "height": 35
        },
        "id": "y4-bpZys8Lqh",
        "outputId": "70744e5c-c673-4f8f-bd52-2b19de8d511a"
      },
      "outputs": [
        {
          "data": {
            "text/plain": [
              "'https://math.stackexchange.com/questions/260617/how-to-determine-if-standard-deviation-is-high-low'"
            ]
          },
          "execution_count": 49,
          "metadata": {},
          "output_type": "execute_result"
        }
      ],
      "source": [
        "\"https://math.stackexchange.com/questions/260617/how-to-determine-if-standard-deviation-is-high-low\" "
      ]
    },
    {
      "cell_type": "code",
      "execution_count": 50,
      "metadata": {
        "colab": {
          "base_uri": "https://localhost:8080/"
        },
        "id": "cT-37o0R-T8L",
        "outputId": "d4c3a2e9-66bf-4aae-dd90-ad8f08f3dd59"
      },
      "outputs": [
        {
          "name": "stdout",
          "output_type": "stream",
          "text": [
            "danceability: 71.12%\n",
            "energy: 66.35%\n",
            "loudness: 75.17%\n",
            "speechiness: 88.05%\n",
            "acousticness: 81.96%\n",
            "instrumentalness: 97.45%\n",
            "liveness: 87.50%\n",
            "valence: 63.43%\n",
            "tempo: 67.92%\n",
            "duration_s: 81.38%\n"
          ]
        }
      ],
      "source": [
        "for i in aa:\n",
        "    lenght = len(df)\n",
        "    print(f\"{i}: {len(df[(df[i] > mean[i] - std[i]) & (df[i] < mean[i] + std[i])])*100/lenght:.2f}%\")"
      ]
    },
    {
      "cell_type": "code",
      "execution_count": 51,
      "metadata": {
        "colab": {
          "base_uri": "https://localhost:8080/",
          "height": 489
        },
        "id": "ONmEH9qYbmei",
        "outputId": "b55ed7f8-c679-4ff2-f795-8c79cf12a55a"
      },
      "outputs": [
        {
          "ename": "FileNotFoundError",
          "evalue": "[Errno 2] No such file or directory: 'giguras/mapas calor/heatmap acotado.png'",
          "output_type": "error",
          "traceback": [
            "\u001b[1;31m---------------------------------------------------------------------------\u001b[0m",
            "\u001b[1;31mFileNotFoundError\u001b[0m                         Traceback (most recent call last)",
            "\u001b[1;32m<ipython-input-51-18c4cbd53d84>\u001b[0m in \u001b[0;36m<module>\u001b[1;34m\u001b[0m\n\u001b[0;32m      1\u001b[0m \u001b[1;31m# Aquello que tienen una variación pequeña\u001b[0m\u001b[1;33m\u001b[0m\u001b[1;33m\u001b[0m\u001b[1;33m\u001b[0m\u001b[0m\n\u001b[0;32m      2\u001b[0m \u001b[0macotados\u001b[0m \u001b[1;33m=\u001b[0m \u001b[1;33m[\u001b[0m\u001b[1;34m\"danceability\"\u001b[0m\u001b[1;33m,\u001b[0m \u001b[1;34m\"duration_s\"\u001b[0m\u001b[1;33m,\u001b[0m\u001b[1;34m\"energy\"\u001b[0m\u001b[1;33m,\u001b[0m\u001b[1;34m\"instrumentalness\"\u001b[0m\u001b[1;33m,\u001b[0m\u001b[1;34m\"tempo\"\u001b[0m\u001b[1;33m]\u001b[0m\u001b[1;33m\u001b[0m\u001b[1;33m\u001b[0m\u001b[0m\n\u001b[1;32m----> 3\u001b[1;33m \u001b[0mheatmap\u001b[0m\u001b[1;33m(\u001b[0m\u001b[0msemanal\u001b[0m\u001b[1;33m,\u001b[0m \u001b[0mvars\u001b[0m \u001b[1;33m=\u001b[0m \u001b[0macotados\u001b[0m\u001b[1;33m,\u001b[0m \u001b[0mnombre\u001b[0m \u001b[1;33m=\u001b[0m \u001b[1;34m\"giguras/mapas calor/heatmap acotado\"\u001b[0m\u001b[1;33m)\u001b[0m\u001b[1;33m\u001b[0m\u001b[1;33m\u001b[0m\u001b[0m\n\u001b[0m",
            "\u001b[1;32m<ipython-input-25-4c8dc415d00d>\u001b[0m in \u001b[0;36mheatmap\u001b[1;34m(df, nombre, vars)\u001b[0m\n\u001b[0;32m     13\u001b[0m     \u001b[0mhm\u001b[0m \u001b[1;33m=\u001b[0m \u001b[0msns\u001b[0m\u001b[1;33m.\u001b[0m\u001b[0mheatmap\u001b[0m\u001b[1;33m(\u001b[0m\u001b[0mcm\u001b[0m\u001b[1;33m,\u001b[0m \u001b[0mcbar\u001b[0m\u001b[1;33m=\u001b[0m\u001b[1;32mFalse\u001b[0m\u001b[1;33m,\u001b[0m \u001b[0mannot\u001b[0m\u001b[1;33m=\u001b[0m\u001b[1;32mTrue\u001b[0m\u001b[1;33m,\u001b[0m \u001b[0msquare\u001b[0m\u001b[1;33m=\u001b[0m\u001b[1;32mTrue\u001b[0m\u001b[1;33m,\u001b[0m \u001b[0mfmt\u001b[0m\u001b[1;33m=\u001b[0m\u001b[1;34m\".2f\"\u001b[0m\u001b[1;33m,\u001b[0m \u001b[0mannot_kws\u001b[0m\u001b[1;33m=\u001b[0m\u001b[1;33m{\u001b[0m\u001b[1;34m\"size\"\u001b[0m\u001b[1;33m:\u001b[0m \u001b[1;36m10\u001b[0m\u001b[1;33m}\u001b[0m\u001b[1;33m,\u001b[0m \u001b[0myticklabels\u001b[0m\u001b[1;33m=\u001b[0m\u001b[0mcols\u001b[0m\u001b[1;33m.\u001b[0m\u001b[0mvalues\u001b[0m\u001b[1;33m,\u001b[0m \u001b[0mxticklabels\u001b[0m\u001b[1;33m=\u001b[0m\u001b[0mcols\u001b[0m\u001b[1;33m.\u001b[0m\u001b[0mvalues\u001b[0m\u001b[1;33m)\u001b[0m\u001b[1;33m\u001b[0m\u001b[1;33m\u001b[0m\u001b[0m\n\u001b[0;32m     14\u001b[0m     \u001b[1;31m# plt.show()\u001b[0m\u001b[1;33m\u001b[0m\u001b[1;33m\u001b[0m\u001b[1;33m\u001b[0m\u001b[0m\n\u001b[1;32m---> 15\u001b[1;33m     \u001b[0mplt\u001b[0m\u001b[1;33m.\u001b[0m\u001b[0msavefig\u001b[0m\u001b[1;33m(\u001b[0m\u001b[0mnombre\u001b[0m\u001b[1;33m,\u001b[0m \u001b[0mtransparent\u001b[0m \u001b[1;33m=\u001b[0m \u001b[1;32mFalse\u001b[0m\u001b[1;33m)\u001b[0m\u001b[1;33m\u001b[0m\u001b[1;33m\u001b[0m\u001b[0m\n\u001b[0m\u001b[0;32m     16\u001b[0m     \u001b[0mplt\u001b[0m\u001b[1;33m.\u001b[0m\u001b[0mclose\u001b[0m\u001b[1;33m(\u001b[0m\u001b[1;33m)\u001b[0m\u001b[1;33m\u001b[0m\u001b[1;33m\u001b[0m\u001b[0m\n\u001b[0;32m     17\u001b[0m \u001b[1;33m\u001b[0m\u001b[0m\n",
            "\u001b[1;32mc:\\Users\\rablo\\anaconda3\\lib\\site-packages\\matplotlib\\pyplot.py\u001b[0m in \u001b[0;36msavefig\u001b[1;34m(*args, **kwargs)\u001b[0m\n\u001b[0;32m    977\u001b[0m \u001b[1;32mdef\u001b[0m \u001b[0msavefig\u001b[0m\u001b[1;33m(\u001b[0m\u001b[1;33m*\u001b[0m\u001b[0margs\u001b[0m\u001b[1;33m,\u001b[0m \u001b[1;33m**\u001b[0m\u001b[0mkwargs\u001b[0m\u001b[1;33m)\u001b[0m\u001b[1;33m:\u001b[0m\u001b[1;33m\u001b[0m\u001b[1;33m\u001b[0m\u001b[0m\n\u001b[0;32m    978\u001b[0m     \u001b[0mfig\u001b[0m \u001b[1;33m=\u001b[0m \u001b[0mgcf\u001b[0m\u001b[1;33m(\u001b[0m\u001b[1;33m)\u001b[0m\u001b[1;33m\u001b[0m\u001b[1;33m\u001b[0m\u001b[0m\n\u001b[1;32m--> 979\u001b[1;33m     \u001b[0mres\u001b[0m \u001b[1;33m=\u001b[0m \u001b[0mfig\u001b[0m\u001b[1;33m.\u001b[0m\u001b[0msavefig\u001b[0m\u001b[1;33m(\u001b[0m\u001b[1;33m*\u001b[0m\u001b[0margs\u001b[0m\u001b[1;33m,\u001b[0m \u001b[1;33m**\u001b[0m\u001b[0mkwargs\u001b[0m\u001b[1;33m)\u001b[0m\u001b[1;33m\u001b[0m\u001b[1;33m\u001b[0m\u001b[0m\n\u001b[0m\u001b[0;32m    980\u001b[0m     \u001b[0mfig\u001b[0m\u001b[1;33m.\u001b[0m\u001b[0mcanvas\u001b[0m\u001b[1;33m.\u001b[0m\u001b[0mdraw_idle\u001b[0m\u001b[1;33m(\u001b[0m\u001b[1;33m)\u001b[0m   \u001b[1;31m# need this if 'transparent=True' to reset colors\u001b[0m\u001b[1;33m\u001b[0m\u001b[1;33m\u001b[0m\u001b[0m\n\u001b[0;32m    981\u001b[0m     \u001b[1;32mreturn\u001b[0m \u001b[0mres\u001b[0m\u001b[1;33m\u001b[0m\u001b[1;33m\u001b[0m\u001b[0m\n",
            "\u001b[1;32mc:\\Users\\rablo\\anaconda3\\lib\\site-packages\\matplotlib\\figure.py\u001b[0m in \u001b[0;36msavefig\u001b[1;34m(self, fname, transparent, **kwargs)\u001b[0m\n\u001b[0;32m   3044\u001b[0m                         ax.patch._cm_set(facecolor='none', edgecolor='none'))\n\u001b[0;32m   3045\u001b[0m \u001b[1;33m\u001b[0m\u001b[0m\n\u001b[1;32m-> 3046\u001b[1;33m             \u001b[0mself\u001b[0m\u001b[1;33m.\u001b[0m\u001b[0mcanvas\u001b[0m\u001b[1;33m.\u001b[0m\u001b[0mprint_figure\u001b[0m\u001b[1;33m(\u001b[0m\u001b[0mfname\u001b[0m\u001b[1;33m,\u001b[0m \u001b[1;33m**\u001b[0m\u001b[0mkwargs\u001b[0m\u001b[1;33m)\u001b[0m\u001b[1;33m\u001b[0m\u001b[1;33m\u001b[0m\u001b[0m\n\u001b[0m\u001b[0;32m   3047\u001b[0m \u001b[1;33m\u001b[0m\u001b[0m\n\u001b[0;32m   3048\u001b[0m     def ginput(self, n=1, timeout=30, show_clicks=True,\n",
            "\u001b[1;32mc:\\Users\\rablo\\anaconda3\\lib\\site-packages\\matplotlib\\backend_bases.py\u001b[0m in \u001b[0;36mprint_figure\u001b[1;34m(self, filename, dpi, facecolor, edgecolor, orientation, format, bbox_inches, pad_inches, bbox_extra_artists, backend, **kwargs)\u001b[0m\n\u001b[0;32m   2317\u001b[0m                 \u001b[1;31m# force the figure dpi to 72), so we need to set it again here.\u001b[0m\u001b[1;33m\u001b[0m\u001b[1;33m\u001b[0m\u001b[1;33m\u001b[0m\u001b[0m\n\u001b[0;32m   2318\u001b[0m                 \u001b[1;32mwith\u001b[0m \u001b[0mcbook\u001b[0m\u001b[1;33m.\u001b[0m\u001b[0m_setattr_cm\u001b[0m\u001b[1;33m(\u001b[0m\u001b[0mself\u001b[0m\u001b[1;33m.\u001b[0m\u001b[0mfigure\u001b[0m\u001b[1;33m,\u001b[0m \u001b[0mdpi\u001b[0m\u001b[1;33m=\u001b[0m\u001b[0mdpi\u001b[0m\u001b[1;33m)\u001b[0m\u001b[1;33m:\u001b[0m\u001b[1;33m\u001b[0m\u001b[1;33m\u001b[0m\u001b[0m\n\u001b[1;32m-> 2319\u001b[1;33m                     result = print_method(\n\u001b[0m\u001b[0;32m   2320\u001b[0m                         \u001b[0mfilename\u001b[0m\u001b[1;33m,\u001b[0m\u001b[1;33m\u001b[0m\u001b[1;33m\u001b[0m\u001b[0m\n\u001b[0;32m   2321\u001b[0m                         \u001b[0mfacecolor\u001b[0m\u001b[1;33m=\u001b[0m\u001b[0mfacecolor\u001b[0m\u001b[1;33m,\u001b[0m\u001b[1;33m\u001b[0m\u001b[1;33m\u001b[0m\u001b[0m\n",
            "\u001b[1;32mc:\\Users\\rablo\\anaconda3\\lib\\site-packages\\matplotlib\\backend_bases.py\u001b[0m in \u001b[0;36mwrapper\u001b[1;34m(*args, **kwargs)\u001b[0m\n\u001b[0;32m   1646\u001b[0m             \u001b[0mkwargs\u001b[0m\u001b[1;33m.\u001b[0m\u001b[0mpop\u001b[0m\u001b[1;33m(\u001b[0m\u001b[0marg\u001b[0m\u001b[1;33m)\u001b[0m\u001b[1;33m\u001b[0m\u001b[1;33m\u001b[0m\u001b[0m\n\u001b[0;32m   1647\u001b[0m \u001b[1;33m\u001b[0m\u001b[0m\n\u001b[1;32m-> 1648\u001b[1;33m         \u001b[1;32mreturn\u001b[0m \u001b[0mfunc\u001b[0m\u001b[1;33m(\u001b[0m\u001b[1;33m*\u001b[0m\u001b[0margs\u001b[0m\u001b[1;33m,\u001b[0m \u001b[1;33m**\u001b[0m\u001b[0mkwargs\u001b[0m\u001b[1;33m)\u001b[0m\u001b[1;33m\u001b[0m\u001b[1;33m\u001b[0m\u001b[0m\n\u001b[0m\u001b[0;32m   1649\u001b[0m \u001b[1;33m\u001b[0m\u001b[0m\n\u001b[0;32m   1650\u001b[0m     \u001b[1;32mreturn\u001b[0m \u001b[0mwrapper\u001b[0m\u001b[1;33m\u001b[0m\u001b[1;33m\u001b[0m\u001b[0m\n",
            "\u001b[1;32mc:\\Users\\rablo\\anaconda3\\lib\\site-packages\\matplotlib\\_api\\deprecation.py\u001b[0m in \u001b[0;36mwrapper\u001b[1;34m(*inner_args, **inner_kwargs)\u001b[0m\n\u001b[0;32m    413\u001b[0m                          \u001b[1;32melse\u001b[0m \u001b[0mdeprecation_addendum\u001b[0m\u001b[1;33m,\u001b[0m\u001b[1;33m\u001b[0m\u001b[1;33m\u001b[0m\u001b[0m\n\u001b[0;32m    414\u001b[0m                 **kwargs)\n\u001b[1;32m--> 415\u001b[1;33m         \u001b[1;32mreturn\u001b[0m \u001b[0mfunc\u001b[0m\u001b[1;33m(\u001b[0m\u001b[1;33m*\u001b[0m\u001b[0minner_args\u001b[0m\u001b[1;33m,\u001b[0m \u001b[1;33m**\u001b[0m\u001b[0minner_kwargs\u001b[0m\u001b[1;33m)\u001b[0m\u001b[1;33m\u001b[0m\u001b[1;33m\u001b[0m\u001b[0m\n\u001b[0m\u001b[0;32m    416\u001b[0m \u001b[1;33m\u001b[0m\u001b[0m\n\u001b[0;32m    417\u001b[0m     \u001b[0mDECORATORS\u001b[0m\u001b[1;33m[\u001b[0m\u001b[0mwrapper\u001b[0m\u001b[1;33m]\u001b[0m \u001b[1;33m=\u001b[0m \u001b[0mdecorator\u001b[0m\u001b[1;33m\u001b[0m\u001b[1;33m\u001b[0m\u001b[0m\n",
            "\u001b[1;32mc:\\Users\\rablo\\anaconda3\\lib\\site-packages\\matplotlib\\backends\\backend_agg.py\u001b[0m in \u001b[0;36mprint_png\u001b[1;34m(self, filename_or_obj, metadata, pil_kwargs, *args)\u001b[0m\n\u001b[0;32m    539\u001b[0m         \"\"\"\n\u001b[0;32m    540\u001b[0m         \u001b[0mFigureCanvasAgg\u001b[0m\u001b[1;33m.\u001b[0m\u001b[0mdraw\u001b[0m\u001b[1;33m(\u001b[0m\u001b[0mself\u001b[0m\u001b[1;33m)\u001b[0m\u001b[1;33m\u001b[0m\u001b[1;33m\u001b[0m\u001b[0m\n\u001b[1;32m--> 541\u001b[1;33m         mpl.image.imsave(\n\u001b[0m\u001b[0;32m    542\u001b[0m             \u001b[0mfilename_or_obj\u001b[0m\u001b[1;33m,\u001b[0m \u001b[0mself\u001b[0m\u001b[1;33m.\u001b[0m\u001b[0mbuffer_rgba\u001b[0m\u001b[1;33m(\u001b[0m\u001b[1;33m)\u001b[0m\u001b[1;33m,\u001b[0m \u001b[0mformat\u001b[0m\u001b[1;33m=\u001b[0m\u001b[1;34m\"png\"\u001b[0m\u001b[1;33m,\u001b[0m \u001b[0morigin\u001b[0m\u001b[1;33m=\u001b[0m\u001b[1;34m\"upper\"\u001b[0m\u001b[1;33m,\u001b[0m\u001b[1;33m\u001b[0m\u001b[1;33m\u001b[0m\u001b[0m\n\u001b[0;32m    543\u001b[0m             dpi=self.figure.dpi, metadata=metadata, pil_kwargs=pil_kwargs)\n",
            "\u001b[1;32mc:\\Users\\rablo\\anaconda3\\lib\\site-packages\\matplotlib\\image.py\u001b[0m in \u001b[0;36mimsave\u001b[1;34m(fname, arr, vmin, vmax, cmap, format, origin, dpi, metadata, pil_kwargs)\u001b[0m\n\u001b[0;32m   1673\u001b[0m         \u001b[0mpil_kwargs\u001b[0m\u001b[1;33m.\u001b[0m\u001b[0msetdefault\u001b[0m\u001b[1;33m(\u001b[0m\u001b[1;34m\"format\"\u001b[0m\u001b[1;33m,\u001b[0m \u001b[0mformat\u001b[0m\u001b[1;33m)\u001b[0m\u001b[1;33m\u001b[0m\u001b[1;33m\u001b[0m\u001b[0m\n\u001b[0;32m   1674\u001b[0m         \u001b[0mpil_kwargs\u001b[0m\u001b[1;33m.\u001b[0m\u001b[0msetdefault\u001b[0m\u001b[1;33m(\u001b[0m\u001b[1;34m\"dpi\"\u001b[0m\u001b[1;33m,\u001b[0m \u001b[1;33m(\u001b[0m\u001b[0mdpi\u001b[0m\u001b[1;33m,\u001b[0m \u001b[0mdpi\u001b[0m\u001b[1;33m)\u001b[0m\u001b[1;33m)\u001b[0m\u001b[1;33m\u001b[0m\u001b[1;33m\u001b[0m\u001b[0m\n\u001b[1;32m-> 1675\u001b[1;33m         \u001b[0mimage\u001b[0m\u001b[1;33m.\u001b[0m\u001b[0msave\u001b[0m\u001b[1;33m(\u001b[0m\u001b[0mfname\u001b[0m\u001b[1;33m,\u001b[0m \u001b[1;33m**\u001b[0m\u001b[0mpil_kwargs\u001b[0m\u001b[1;33m)\u001b[0m\u001b[1;33m\u001b[0m\u001b[1;33m\u001b[0m\u001b[0m\n\u001b[0m\u001b[0;32m   1676\u001b[0m \u001b[1;33m\u001b[0m\u001b[0m\n\u001b[0;32m   1677\u001b[0m \u001b[1;33m\u001b[0m\u001b[0m\n",
            "\u001b[1;32mc:\\Users\\rablo\\anaconda3\\lib\\site-packages\\PIL\\Image.py\u001b[0m in \u001b[0;36msave\u001b[1;34m(self, fp, format, **params)\u001b[0m\n\u001b[0;32m   2167\u001b[0m                 \u001b[0mfp\u001b[0m \u001b[1;33m=\u001b[0m \u001b[0mbuiltins\u001b[0m\u001b[1;33m.\u001b[0m\u001b[0mopen\u001b[0m\u001b[1;33m(\u001b[0m\u001b[0mfilename\u001b[0m\u001b[1;33m,\u001b[0m \u001b[1;34m\"r+b\"\u001b[0m\u001b[1;33m)\u001b[0m\u001b[1;33m\u001b[0m\u001b[1;33m\u001b[0m\u001b[0m\n\u001b[0;32m   2168\u001b[0m             \u001b[1;32melse\u001b[0m\u001b[1;33m:\u001b[0m\u001b[1;33m\u001b[0m\u001b[1;33m\u001b[0m\u001b[0m\n\u001b[1;32m-> 2169\u001b[1;33m                 \u001b[0mfp\u001b[0m \u001b[1;33m=\u001b[0m \u001b[0mbuiltins\u001b[0m\u001b[1;33m.\u001b[0m\u001b[0mopen\u001b[0m\u001b[1;33m(\u001b[0m\u001b[0mfilename\u001b[0m\u001b[1;33m,\u001b[0m \u001b[1;34m\"w+b\"\u001b[0m\u001b[1;33m)\u001b[0m\u001b[1;33m\u001b[0m\u001b[1;33m\u001b[0m\u001b[0m\n\u001b[0m\u001b[0;32m   2170\u001b[0m \u001b[1;33m\u001b[0m\u001b[0m\n\u001b[0;32m   2171\u001b[0m         \u001b[1;32mtry\u001b[0m\u001b[1;33m:\u001b[0m\u001b[1;33m\u001b[0m\u001b[1;33m\u001b[0m\u001b[0m\n",
            "\u001b[1;31mFileNotFoundError\u001b[0m: [Errno 2] No such file or directory: 'giguras/mapas calor/heatmap acotado.png'"
          ]
        },
        {
          "data": {
            "image/png": "[encoded data removed]",
            "text/plain": [
              "<Figure size 720x576 with 2 Axes>"
            ]
          },
          "metadata": {},
          "output_type": "display_data"
        }
      ],
      "source": [
        "# Aquello que tienen una variación pequeña\n",
        "acotados = [\"danceability\", \"duration_s\",\"energy\",\"instrumentalness\",\"tempo\"]\n",
        "heatmap(semanal, vars = acotados, nombre = \"giguras/mapas calor/heatmap acotado\")"
      ]
    },
    {
      "cell_type": "code",
      "execution_count": null,
      "metadata": {
        "id": "Ky_k0DembvSt"
      },
      "outputs": [],
      "source": []
    }
  ],
  "metadata": {
    "colab": {
      "collapsed_sections": [],
      "name": "spotify top200.ipynb",
      "provenance": []
    },
    "interpreter": {
      "hash": "843fd92092d224b47c16a68bd4bca3fc6a9bbbdfa33fd8038d7a6787e0fa4720"
    },
    "kernelspec": {
      "display_name": "Python 3.8.8 ('base')",
      "language": "python",
      "name": "python3"
    },
    "language_info": {
      "codemirror_mode": {
        "name": "ipython",
        "version": 3
      },
      "file_extension": ".py",
      "mimetype": "text/x-python",
      "name": "python",
      "nbconvert_exporter": "python",
      "pygments_lexer": "ipython3",
      "version": "3.8.8"
    },
    "orig_nbformat": 4
  },
  "nbformat": 4,
  "nbformat_minor": 0
}
