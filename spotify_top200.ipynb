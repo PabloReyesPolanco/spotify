{
  "cells": [
    {
      "cell_type": "code",
      "execution_count": 84,
      "metadata": {
        "id": "-sioQ8K5EBER"
      },
      "outputs": [],
      "source": [
        "import pandas as pd\n",
        "import matplotlib.pyplot as plt\n",
        "import seaborn as sns\n",
        "import numpy as np\n",
        "import matplotlib.dates as md\n",
        "from scipy.stats import pearsonr #calculate correlation coefficient\n",
        "from scipy import stats\n",
        "import calendar"
      ]
    },
    {
      "cell_type": "code",
      "execution_count": 85,
      "metadata": {
        "id": "r8Tp9osAKNXb"
      },
      "outputs": [],
      "source": [
        "# datos random\n",
        "\n",
        "spotify_green = (29/255, 185/255, 84/255, 1)\n",
        "spotify_black = (25/255, 20/255, 20/255, 1)\n",
        "spotify_blue = (85/255, 156/255, 242/255, 1)\n",
        "spotify_purple = (65/255, 0/255, 245/255, 1)\n",
        "spotify_white = (1,1,1,1)\n",
        "\n",
        "spotify_palette = [\n",
        "                spotify_green,\n",
        "                spotify_black,\n",
        "                spotify_blue,\n",
        "                spotify_purple,\n",
        "                spotify_white\n",
        "                ]\n",
        "palette = sns.color_palette(spotify_palette, 5)\n",
        "\n",
        "aa =  ['danceability', 'energy', 'loudness', 'speechiness', 'acousticness', 'instrumentalness', 'liveness', 'valence', 'tempo', 'duration']"
      ]
    },
    {
      "cell_type": "code",
      "execution_count": 86,
      "metadata": {
        "colab": {
          "base_uri": "https://localhost:8080/",
          "height": 35
        },
        "id": "7PlyaF0b7fud",
        "outputId": "aacb70e5-5d04-4c48-8ee8-21ea9975773c"
      },
      "outputs": [],
      "source": [
        "def heatmap(df, nombre, vars = aa):\n",
        "    df = df[vars]\n",
        "    cormat = df.corr()\n",
        "    f, ax = plt.subplots(figsize=(10,8))\n",
        "    sns.heatmap(cormat, vmax= .85, square=True)\n",
        "    k = 10\n",
        "    cols = cormat.nlargest(k,vars[2])[vars[2]].index\n",
        "    cm = np.corrcoef(df[cols].values.T)\n",
        "    sns.set(font_scale=1.25)\n",
        "    hm = sns.heatmap(cm, cbar=False, annot=True, square=True, fmt=\".2f\", annot_kws={\"size\": 10}, yticklabels=cols.values, xticklabels=cols.values)\n",
        "    # plt.show()\n",
        "    plt.savefig(nombre, transparent = False)\n",
        "    plt.close()\n",
        "\n",
        "def pairplot(df, vars, nombre):\n",
        "    sns.pairplot(df[vars]) # ,\"valence\"\n",
        "    # plt.show()\n",
        "    plt.savefig(nombre, transparent = False)\n",
        "    plt.close()\n",
        "\n",
        "def histogram(df, var, nombre):\n",
        "    #set figure\n",
        "    f, ax = plt.subplots(1,1, figsize = (10,8))#graph histogram\n",
        "    plt.hist(df[var], bins=10, alpha=0.75, color = spotify_green , label=var.title())\n",
        "    plt.legend(loc='upper right')#set title & axis titles\n",
        "    ax.set_title(f'{var.title()} Histogram', fontsize=20)\n",
        "    ax.set_xlabel(var.title())\n",
        "    ax.set_ylabel('Frequency')#set x & y ranges\n",
        "    # plt.xlim(0,1)\n",
        "    # plt.ylim(0, len())\n",
        "    # plt.show()\n",
        "    plt.savefig(nombre, transparent = False)\n",
        "    plt.close()\n",
        "\n",
        "def reg_plot(df, var1, var2, nombre):\n",
        "    f, ax = plt.subplots(figsize=(10,8))\n",
        "    corr = pearsonr(df[var1], df[var2])\n",
        "    corr = [np.round(c, 2) for c in corr] #add the coefficient to your graph\n",
        "    text = 'r=%s' % (corr[0])\n",
        "    sns.regplot(x=var1, y=var2, data=df, color = spotify_green)\n",
        "    ax.legend([text])\n",
        "    plt.savefig(nombre, transparent = False)\n",
        "    plt.close()\n",
        "\n",
        "def time_series(data, var, nombre ,trendline = False, rolling_average = False, IC = False,rolling_size = 4, aux = True):\n",
        "    fig, ax = plt.subplots(figsize = (16,10))\n",
        "    labels = []\n",
        "    sns.lineplot(data = data, x = \"start\", y = var , color = spotify_green)\n",
        "    labels.append(var)\n",
        "\n",
        "    if rolling_average:\n",
        "        data[\"media_movil\"] = data[var].rolling(rolling_size).mean()\n",
        "        sns.lineplot(data = data, x = \"start\", y = \"media_movil\", color = spotify_purple)\n",
        "        labels.append(\"Media Móvil\")\n",
        "    if trendline: # como chucha hago la trendlin    \n",
        "        data[\"x\"] = [i for i in range(len(data))]\n",
        "        slope, intercept, r_value, pv, se = stats.linregress(data[\"x\"], data[var])\n",
        "        data[\"reg\"] = data[\"x\"] * slope + intercept\n",
        "        sns.lineplot(data = data, x = \"start\", y = \"reg\", color = spotify_blue)\n",
        "        labels.append(f\"Tendencia, r={r_value:.2f}\")\n",
        "        if IC:\n",
        "            data[\"sup\"] = data[\"reg\"] + 1.96 * data[var].std()/np.sqrt(len(data[var]))\n",
        "            data[\"inf\"] = data[\"reg\"] - 1.96 *data[var].std()/np.sqrt(len(data[var]))\n",
        "            sns.lineplot(data = data, x = \"start\", y = \"sup\", color = \"red\")\n",
        "            sns.lineplot(data = data, x = \"start\", y = \"inf\", color = \"red\")\n",
        "\n",
        "    if aux:\n",
        "\n",
        "        years = md.YearLocator()   # every year\n",
        "        months = md.MonthLocator()  # every month\n",
        "        years_fmt = md.DateFormatter('%Y-%m')\n",
        "\n",
        "        ax.xaxis.set_major_locator(months)\n",
        "        ax.xaxis.set_major_formatter(years_fmt)\n",
        "        ax.xaxis.set_minor_locator(months)\n",
        "\n",
        "    # ax.xaxis.label.set_color(spotify_white)\n",
        "    # ax.yaxis.label.set_color(spotify_white)\n",
        "    # ax.tick_params(axis='x', colors=spotify_white)\n",
        "    # ax.tick_params(axis='y', colors=spotify_white)\n",
        "\n",
        "    # for _,s in ax.spines.items():\n",
        "    #     s.set_color(spotify_white)\n",
        "\n",
        "    plt.xticks(rotation = 'vertical')\n",
        "    plt.legend(labels=labels)\n",
        "    # plt.show()\n",
        "    plt.savefig(nombre, transparent = False)\n",
        "    plt.close()\n",
        "\n",
        "def barplot(df, var, nombre = \"a\"):\n",
        "\n",
        "    fig, ax = plt.subplots(figsize = (16,10))\n",
        "\n",
        "    sns.barplot(data = df, x = \"start\", y = var , color = spotify_green, estimator=np.mean, ci=95,capsize=.2)\n",
        "\n",
        "    plt.xticks(rotation = 'vertical')\n",
        "    # plt.legend(labels=labels)\n",
        "    # plt.show()\n",
        "    std = df[var].std()\n",
        "    plt.ylim(min(df[var]-std), max[df[var]]+std)\n",
        "    plt.savefig(nombre, transparent = False)\n",
        "    plt.close()\n",
        "\n",
        "def var_mensual(mensual, n):\n",
        "    mensual[\"hue\"] = [False]*n + [True]*(12-n)\n",
        "    a1 = mensual[mensual.hue == False].drop([\"start\",\"hue\"], axis = 1).transpose().reset_index()\n",
        "    a2 = mensual[mensual.hue == True].drop([\"start\",\"hue\"], axis = 1).transpose().reset_index()\n",
        "    a1 = pd.melt(a1, id_vars='index', value_name='valor').drop([\"variable\"], axis = 1)\n",
        "    a2 = pd.melt(a2, id_vars='index', value_name='valor').drop([\"variable\"], axis = 1)\n",
        "    a1[\"periodo\"] = \"inicio\"\n",
        "    a2[\"periodo\"] = \"fin\"\n",
        "\n",
        "    aux = pd.concat([a1,a2], axis = 0)\n",
        "    aux.columns = [\"feature\", \"valor\", \"periodo\"]\n",
        "\n",
        "    fig, ax = plt.subplots(figsize = (16,10))\n",
        "    sns.barplot(x='feature', y='valor', ci = \"sd\", data=aux, hue = \"periodo\", palette = [spotify_green, spotify_blue])\n",
        "    plt.savefig(f\"figuras/Primeros {n} meses vs el resto\")\n",
        "    plt.close()"
      ]
    },
    {
      "cell_type": "markdown",
      "metadata": {},
      "source": [
        "# 1. Importar Datos"
      ]
    },
    {
      "cell_type": "code",
      "execution_count": 157,
      "metadata": {
        "id": "nigfzrarEBEY"
      },
      "outputs": [],
      "source": [
        "df = pd.read_csv(\"https://raw.githubusercontent.com/PabloReyesPolanco/spotify/master/Spotify%20Weekly.csv\")\n",
        "df = df.drop([\"url\",\"time_signature\",\"key\",\"mode\"], axis = 1)\n",
        "df = df[df.year > 2016].dropna(axis = 0).sort_values([\"start\",\"position\"]).reset_index(drop=True)\n",
        "df[\"duration\"] = df[\"duration_ms\"]\n",
        "df['start'] = pd.to_datetime(df['start'], format = '%Y-%m-%d')\n",
        "\n",
        "semanal = df.groupby(\"start\", as_index = False).agg(\n",
        "    danceability = (\"danceability\",\"mean\"),\n",
        "    energy = (\"energy\",\"mean\"),\n",
        "    loudness = (\"loudness\",\"mean\"),\n",
        "    speechiness = (\"speechiness\",\"mean\"),\n",
        "    acousticness = (\"acousticness\",\"mean\"),\n",
        "    instrumentalness = (\"instrumentalness\",\"mean\"),\n",
        "    liveness = (\"liveness\",\"mean\"),\n",
        "    valence = (\"valence\",\"mean\"),\n",
        "    tempo = (\"tempo\",\"mean\"),\n",
        "    duration = (\"duration\",\"mean\"))\n",
        "\n",
        "# semanal[\"id\"] = [i for i in range(len(semanal))]\n",
        "\n",
        "mensual = semanal.groupby(semanal['start'].dt.month).mean().reset_index()\n",
        "mensual['start'] = mensual['start'].apply(lambda x: calendar.month_abbr[x])\n",
        "aux = mensual.pop(\"start\")\n",
        "mensual=(mensual-mensual.mean())/mensual.std() # (mensual-mensual.min())/(mensual.max()-mensual.min())\n",
        "# mensual = (mensual-mensual.max())/(mensual.min()-mensual.max())\n",
        "mensual.insert(0, \"start\", aux)\n"
      ]
    },
    {
      "cell_type": "code",
      "execution_count": 155,
      "metadata": {},
      "outputs": [],
      "source": [
        "n = 9\n",
        "mensual[\"hue\"] = [False]*n + [True]*(12-n)\n",
        "a1 = mensual[mensual.hue == False].drop([\"start\",\"hue\"], axis = 1).transpose().reset_index()\n",
        "a2 = mensual[mensual.hue == True].drop([\"start\",\"hue\"], axis = 1).transpose().reset_index()\n",
        "a1 = pd.melt(a1, id_vars='index', value_name='valor').drop([\"variable\"], axis = 1)\n",
        "a2 = pd.melt(a2, id_vars='index', value_name='valor').drop([\"variable\"], axis = 1)\n",
        "a1[\"periodo\"] = \"inicio\"\n",
        "a2[\"periodo\"] = \"fin\"\n",
        "aux = pd.concat([a1,a2], axis = 0)\n",
        "aux.columns = [\"feature\", \"valor\", \"periodo\"]"
      ]
    },
    {
      "cell_type": "code",
      "execution_count": 89,
      "metadata": {
        "id": "mld3NSF7rkoX"
      },
      "outputs": [],
      "source": [
        "aux_mean = mensual.groupby(\"hue\").mean().transpose().reset_index()\n",
        "aux_std = mensual.groupby(\"hue\").std().transpose().reset_index().fillna(0)\n",
        "aux_mean.columns = [\"feature\", \"inicio\", \"fin\"]\n",
        "aux_std.columns = [\"feature\", \"inicio\", \"fin\"]\n",
        "# aux = pd.merge(aux_mean, aux_std,how = \"inner\", on=\"feature\")\n",
        "# aux\n",
        "\n",
        "aux_mean = pd.melt(aux_mean, id_vars='feature', value_vars=[\"inicio\",\"fin\"], value_name='valor')\n",
        "aux_mean.columns = [\"feature\",\"periodo\",\"valor\"]\n",
        "aux_std = pd.melt(aux_std, id_vars='feature', value_vars=[\"inicio\",\"fin\"], value_name='valor')\n",
        "aux_std.columns = [\"feature\",\"periodo\",\"valor\"]"
      ]
    },
    {
      "cell_type": "code",
      "execution_count": 90,
      "metadata": {
        "colab": {
          "base_uri": "https://localhost:8080/"
        },
        "id": "2AWqYRwnjpqz",
        "outputId": "8f5dcaca-f296-49c1-995c-ca1bbdb94fe1"
      },
      "outputs": [
        {
          "name": "stdout",
          "output_type": "stream",
          "text": [
            "danceability: \n",
            "[-3.3278614528424004, -0.2037744697127606]\n",
            "speechiness: \n",
            "[-3.2879312949066604, -0.35364977938555264]\n",
            "tempo: \n",
            "[1.511795016775515, 2.3377837555062597]\n",
            "duration: \n",
            "[-2.7845874337330074, -0.8741581950236171]\n"
          ]
        }
      ],
      "source": [
        "for i in aa:\n",
        "    g1 = mensual[mensual.hue == False]\n",
        "    g2 = mensual[mensual.hue == True]\n",
        "    g1_n, g2_n = len(g1), len(g2)\n",
        "    if g2_n != 1:\n",
        "        g1_mean, g2_mean = g1[i].mean(), g2[i].mean()\n",
        "        g1_std, g2_std = g1[i].std(), g2[i].std()\n",
        "    else:\n",
        "        g1_mean, g2_mean = g1[i].mean(), int(g2[i])\n",
        "        g1_std, g2_std = g1[i].std(), 0\n",
        "\n",
        "    dif = g2_mean - g1_mean\n",
        "    std = (g1_std**2/g1_n + g2_std**2/g2_n)**(1/2)\n",
        "    intervalo = [dif - 1.96*std,dif +1.96*std]\n",
        "    if intervalo[0]*intervalo[1] > 0:\n",
        "        print(f\"{i}: \")\n",
        "        print(intervalo)"
      ]
    },
    {
      "cell_type": "code",
      "execution_count": 91,
      "metadata": {
        "colab": {
          "base_uri": "https://localhost:8080/"
        },
        "id": "Ax8OPYxOO71R",
        "outputId": "58a2fdc6-92c7-4373-c150-4d02e1be7316"
      },
      "outputs": [
        {
          "name": "stderr",
          "output_type": "stream",
          "text": [
            "<ipython-input-91-5a07f1c8fc73>:1: FutureWarning: DataFrame.mean and DataFrame.median with numeric_only=None will include datetime64 and datetime64tz columns in a future version.\n",
            "  mean = df.drop_duplicates(\"track_name\").mean()\n"
          ]
        },
        {
          "data": {
            "text/plain": [
              "acousticness        1.048899\n",
              "danceability        0.206647\n",
              "duration            0.237507\n",
              "duration_ms         0.237507\n",
              "energy              0.260291\n",
              "instrumentalness    6.333953\n",
              "liveness            0.763157\n",
              "loudness           -0.403625\n",
              "position            0.564344\n",
              "speechiness         0.911765\n",
              "start                    NaT\n",
              "streams             0.802342\n",
              "tempo               0.244375\n",
              "valence             0.459569\n",
              "year                  0.0007\n",
              "dtype: object"
            ]
          },
          "execution_count": 91,
          "metadata": {},
          "output_type": "execute_result"
        }
      ],
      "source": [
        "mean = df.drop_duplicates(\"track_name\").mean()\n",
        "std = df.drop_duplicates(\"track_name\").std()\n",
        "std/mean"
      ]
    },
    {
      "cell_type": "code",
      "execution_count": 92,
      "metadata": {
        "colab": {
          "base_uri": "https://localhost:8080/"
        },
        "id": "cT-37o0R-T8L",
        "outputId": "d4c3a2e9-66bf-4aae-dd90-ad8f08f3dd59"
      },
      "outputs": [
        {
          "name": "stdout",
          "output_type": "stream",
          "text": [
            "danceability: 71.12%\n",
            "energy: 66.35%\n",
            "loudness: 75.17%\n",
            "speechiness: 88.05%\n",
            "acousticness: 81.96%\n",
            "instrumentalness: 97.45%\n",
            "liveness: 87.50%\n",
            "valence: 63.43%\n",
            "tempo: 67.92%\n",
            "duration: 81.38%\n"
          ]
        }
      ],
      "source": [
        "for i in aa:\n",
        "    lenght = len(df)\n",
        "    print(f\"{i}: {len(df[(df[i] > mean[i] - std[i]) & (df[i] < mean[i] + std[i])])*100/lenght:.2f}%\")"
      ]
    },
    {
      "cell_type": "markdown",
      "metadata": {},
      "source": [
        "# Pregunta 3: Efecto Tik Tok"
      ]
    },
    {
      "cell_type": "code",
      "execution_count": 160,
      "metadata": {},
      "outputs": [],
      "source": [
        "tiktok = pd.read_csv(\"tiktok.csv\").drop([\"Unnamed: 0\",\"track_id\",\"artist_id\",\"album_id\"], axis =1)\n",
        "tiktok = tiktok[[\"track_name\"]+aa]\n",
        "tiktok[\"plataforma\"] = \"tiktok\"\n",
        "spotify = df[[\"track_name\"]+aa].copy()\n",
        "spotify = spotify.drop_duplicates([\"track_name\"])\n",
        "spotify[\"plataforma\"] = \"spotify\"\n",
        "stream = pd.concat([spotify,tiktok], axis = 0 )\n",
        "\n",
        "aux = stream.pop(\"track_name\")\n",
        "aux2 = stream.pop(\"plataforma\")\n",
        "stream=(stream-stream.max())/(stream.min() -stream.max())# (mensual-mensual.min())/(mensual.max()-mensual.min())\n",
        "stream.insert(0, \"track_name\", aux)\n",
        "stream.insert(0, \"plataforma\", aux2)\n",
        "\n",
        "spfy = stream[stream.plataforma == \"spotify\"]\n",
        "ttok = stream[stream.plataforma == \"tiktok\"]\n",
        "spfy = pd.melt(spfy[aa].transpose().reset_index(), id_vars='index', value_name='valor').drop([\"variable\"], axis = 1)\n",
        "ttok = pd.melt(ttok[aa].transpose().reset_index(), id_vars='index', value_name='valor').drop([\"variable\"], axis = 1)\n",
        "ttok[\"plataforma\"] = \"tiktok\"\n",
        "spfy[\"plataforma\"] = \"spotify\"\n",
        "comp = pd.concat([spfy,ttok], axis = 0)\n",
        "comp.columns = [\"feature\", \"valor\", \"plataforma\"]\n"
      ]
    },
    {
      "cell_type": "markdown",
      "metadata": {},
      "source": [
        "## Diferencia de medias entre los promedios de tik tok y los de spotify"
      ]
    },
    {
      "cell_type": "code",
      "execution_count": 162,
      "metadata": {},
      "outputs": [
        {
          "data": {
            "image/png": "[encoded data removed]",
            "text/plain": [
              "<Figure size 1152x720 with 1 Axes>"
            ]
          },
          "metadata": {},
          "output_type": "display_data"
        }
      ],
      "source": [
        "fig, ax = plt.subplots(figsize = (16,10))\n",
        "sns.barplot(x='feature', y='valor', ci = \"sd\", data=comp, hue = \"plataforma\", palette = [spotify_green, spotify_black])\n",
        "plt.savefig(f\"figuras/spotify vs tiktok\")\n",
        "# plt.close()"
      ]
    },
    {
      "cell_type": "code",
      "execution_count": 207,
      "metadata": {},
      "outputs": [
        {
          "data": {
            "image/png": "[encoded data removed]",
            "text/plain": [
              "<Figure size 1152x720 with 1 Axes>"
            ]
          },
          "metadata": {},
          "output_type": "display_data"
        }
      ],
      "source": [
        "df[\"in_tiktok\"] = df.track_name.apply(lambda x: True if x in tiktok.track_name.values else False)\n",
        "in_tiktok = df.groupby([\"year\", \"in_tiktok\"]).size().to_frame().reset_index()\n",
        "in_tiktok.columns = [\"year\", \"in_tiktok\", \"counts\"]\n",
        "fig, ax = plt.subplots(figsize = (16,10))\n",
        "sns.barplot(x = \"year\", y = \"counts\" , hue = \"in_tiktok\", data = in_tiktok, palette = [spotify_green, spotify_blue])\n",
        "plt.savefig(f\"figuras/canciones en tik tok\")"
      ]
    },
    {
      "cell_type": "code",
      "execution_count": 214,
      "metadata": {},
      "outputs": [
        {
          "data": {
            "image/png": "[encoded data removed]",
            "text/plain": [
              "<Figure size 1152x720 with 1 Axes>"
            ]
          },
          "metadata": {},
          "output_type": "display_data"
        }
      ],
      "source": [
        "# proporcion en tik tok\n",
        "prop = in_tiktok[in_tiktok.in_tiktok == True].copy()\n",
        "prop[\"total\"] = in_tiktok[in_tiktok.in_tiktok == False].counts.to_list()\n",
        "prop[\"total\"] = prop[\"total\"] + prop[\"counts\"]\n",
        "prop[\"prop\"] = prop[\"counts\"]/prop[\"total\"]\n",
        "fig, ax = plt.subplots(figsize = (16,10))\n",
        "prop['year'] = pd.to_datetime(prop['year'], format = '%Y')\n",
        "sns.lineplot(x = \"year\", y = \"prop\", data = prop, color = spotify_green)\n",
        "plt.savefig(f\"figuras/proporcion en tik tok\")"
      ]
    },
    {
      "cell_type": "code",
      "execution_count": 223,
      "metadata": {},
      "outputs": [
        {
          "data": {
            "text/html": [
              "<div>\n",
              "<style scoped>\n",
              "    .dataframe tbody tr th:only-of-type {\n",
              "        vertical-align: middle;\n",
              "    }\n",
              "\n",
              "    .dataframe tbody tr th {\n",
              "        vertical-align: top;\n",
              "    }\n",
              "\n",
              "    .dataframe thead th {\n",
              "        text-align: right;\n",
              "    }\n",
              "</style>\n",
              "<table border=\"1\" class=\"dataframe\">\n",
              "  <thead>\n",
              "    <tr style=\"text-align: right;\">\n",
              "      <th></th>\n",
              "      <th>track_name</th>\n",
              "      <th>danceability</th>\n",
              "      <th>energy</th>\n",
              "      <th>loudness</th>\n",
              "      <th>speechiness</th>\n",
              "      <th>acousticness</th>\n",
              "      <th>instrumentalness</th>\n",
              "      <th>liveness</th>\n",
              "      <th>valence</th>\n",
              "      <th>tempo</th>\n",
              "      <th>duration</th>\n",
              "      <th>plataforma</th>\n",
              "      <th>streams</th>\n",
              "    </tr>\n",
              "  </thead>\n",
              "  <tbody>\n",
              "    <tr>\n",
              "      <th>5244</th>\n",
              "      <td>good 4 u</td>\n",
              "      <td>0.556</td>\n",
              "      <td>0.661</td>\n",
              "      <td>-5.052</td>\n",
              "      <td>0.2040</td>\n",
              "      <td>0.3000</td>\n",
              "      <td>0.000000</td>\n",
              "      <td>0.1010</td>\n",
              "      <td>0.668</td>\n",
              "      <td>168.560</td>\n",
              "      <td>178147</td>\n",
              "      <td>tiktok</td>\n",
              "      <td>84131760</td>\n",
              "    </tr>\n",
              "    <tr>\n",
              "      <th>998</th>\n",
              "      <td>drivers license</td>\n",
              "      <td>0.585</td>\n",
              "      <td>0.436</td>\n",
              "      <td>-8.761</td>\n",
              "      <td>0.0601</td>\n",
              "      <td>0.7210</td>\n",
              "      <td>0.000013</td>\n",
              "      <td>0.1050</td>\n",
              "      <td>0.132</td>\n",
              "      <td>143.874</td>\n",
              "      <td>242013</td>\n",
              "      <td>tiktok</td>\n",
              "      <td>80764045</td>\n",
              "    </tr>\n",
              "    <tr>\n",
              "      <th>5245</th>\n",
              "      <td>good 4 u</td>\n",
              "      <td>0.556</td>\n",
              "      <td>0.661</td>\n",
              "      <td>-5.052</td>\n",
              "      <td>0.2040</td>\n",
              "      <td>0.3000</td>\n",
              "      <td>0.000000</td>\n",
              "      <td>0.1010</td>\n",
              "      <td>0.668</td>\n",
              "      <td>168.560</td>\n",
              "      <td>178147</td>\n",
              "      <td>tiktok</td>\n",
              "      <td>77001868</td>\n",
              "    </tr>\n",
              "    <tr>\n",
              "      <th>5246</th>\n",
              "      <td>good 4 u</td>\n",
              "      <td>0.556</td>\n",
              "      <td>0.661</td>\n",
              "      <td>-5.052</td>\n",
              "      <td>0.2040</td>\n",
              "      <td>0.3000</td>\n",
              "      <td>0.000000</td>\n",
              "      <td>0.1010</td>\n",
              "      <td>0.668</td>\n",
              "      <td>168.560</td>\n",
              "      <td>178147</td>\n",
              "      <td>tiktok</td>\n",
              "      <td>68911998</td>\n",
              "    </tr>\n",
              "    <tr>\n",
              "      <th>7688</th>\n",
              "      <td>In My Feelings</td>\n",
              "      <td>0.885</td>\n",
              "      <td>0.853</td>\n",
              "      <td>-4.556</td>\n",
              "      <td>0.2540</td>\n",
              "      <td>0.0475</td>\n",
              "      <td>0.000006</td>\n",
              "      <td>0.1010</td>\n",
              "      <td>0.855</td>\n",
              "      <td>91.027</td>\n",
              "      <td>179340</td>\n",
              "      <td>tiktok</td>\n",
              "      <td>67499798</td>\n",
              "    </tr>\n",
              "    <tr>\n",
              "      <th>...</th>\n",
              "      <td>...</td>\n",
              "      <td>...</td>\n",
              "      <td>...</td>\n",
              "      <td>...</td>\n",
              "      <td>...</td>\n",
              "      <td>...</td>\n",
              "      <td>...</td>\n",
              "      <td>...</td>\n",
              "      <td>...</td>\n",
              "      <td>...</td>\n",
              "      <td>...</td>\n",
              "      <td>...</td>\n",
              "      <td>...</td>\n",
              "    </tr>\n",
              "    <tr>\n",
              "      <th>8835</th>\n",
              "      <td>Secrets</td>\n",
              "      <td>0.848</td>\n",
              "      <td>0.768</td>\n",
              "      <td>-5.386</td>\n",
              "      <td>0.0373</td>\n",
              "      <td>0.0412</td>\n",
              "      <td>0.000785</td>\n",
              "      <td>0.1950</td>\n",
              "      <td>0.777</td>\n",
              "      <td>118.961</td>\n",
              "      <td>176766</td>\n",
              "      <td>tiktok</td>\n",
              "      <td>2619942</td>\n",
              "    </tr>\n",
              "    <tr>\n",
              "      <th>11086</th>\n",
              "      <td>goosebumps</td>\n",
              "      <td>0.841</td>\n",
              "      <td>0.728</td>\n",
              "      <td>-3.370</td>\n",
              "      <td>0.0484</td>\n",
              "      <td>0.0847</td>\n",
              "      <td>0.000000</td>\n",
              "      <td>0.1490</td>\n",
              "      <td>0.430</td>\n",
              "      <td>130.049</td>\n",
              "      <td>243836</td>\n",
              "      <td>tiktok</td>\n",
              "      <td>2619064</td>\n",
              "    </tr>\n",
              "    <tr>\n",
              "      <th>9238</th>\n",
              "      <td>Mr. Brightside</td>\n",
              "      <td>0.550</td>\n",
              "      <td>0.865</td>\n",
              "      <td>-3.783</td>\n",
              "      <td>0.0725</td>\n",
              "      <td>0.0540</td>\n",
              "      <td>0.000000</td>\n",
              "      <td>0.0859</td>\n",
              "      <td>0.246</td>\n",
              "      <td>126.093</td>\n",
              "      <td>226666</td>\n",
              "      <td>tiktok</td>\n",
              "      <td>2605389</td>\n",
              "    </tr>\n",
              "    <tr>\n",
              "      <th>11703</th>\n",
              "      <td>Famous</td>\n",
              "      <td>0.838</td>\n",
              "      <td>0.624</td>\n",
              "      <td>-5.674</td>\n",
              "      <td>0.0470</td>\n",
              "      <td>0.1470</td>\n",
              "      <td>0.000019</td>\n",
              "      <td>0.1050</td>\n",
              "      <td>0.520</td>\n",
              "      <td>109.998</td>\n",
              "      <td>204300</td>\n",
              "      <td>tiktok</td>\n",
              "      <td>2580512</td>\n",
              "    </tr>\n",
              "    <tr>\n",
              "      <th>13495</th>\n",
              "      <td>Let Her Go</td>\n",
              "      <td>0.567</td>\n",
              "      <td>0.287</td>\n",
              "      <td>-11.990</td>\n",
              "      <td>0.0610</td>\n",
              "      <td>0.9760</td>\n",
              "      <td>0.892000</td>\n",
              "      <td>0.1620</td>\n",
              "      <td>0.167</td>\n",
              "      <td>86.791</td>\n",
              "      <td>154602</td>\n",
              "      <td>tiktok</td>\n",
              "      <td>2536282</td>\n",
              "    </tr>\n",
              "  </tbody>\n",
              "</table>\n",
              "<p>16260 rows × 13 columns</p>\n",
              "</div>"
            ],
            "text/plain": [
              "            track_name  danceability  energy  loudness  speechiness  \\\n",
              "5244          good 4 u         0.556   0.661    -5.052       0.2040   \n",
              "998    drivers license         0.585   0.436    -8.761       0.0601   \n",
              "5245          good 4 u         0.556   0.661    -5.052       0.2040   \n",
              "5246          good 4 u         0.556   0.661    -5.052       0.2040   \n",
              "7688    In My Feelings         0.885   0.853    -4.556       0.2540   \n",
              "...                ...           ...     ...       ...          ...   \n",
              "8835           Secrets         0.848   0.768    -5.386       0.0373   \n",
              "11086       goosebumps         0.841   0.728    -3.370       0.0484   \n",
              "9238    Mr. Brightside         0.550   0.865    -3.783       0.0725   \n",
              "11703           Famous         0.838   0.624    -5.674       0.0470   \n",
              "13495       Let Her Go         0.567   0.287   -11.990       0.0610   \n",
              "\n",
              "       acousticness  instrumentalness  liveness  valence    tempo  duration  \\\n",
              "5244         0.3000          0.000000    0.1010    0.668  168.560    178147   \n",
              "998          0.7210          0.000013    0.1050    0.132  143.874    242013   \n",
              "5245         0.3000          0.000000    0.1010    0.668  168.560    178147   \n",
              "5246         0.3000          0.000000    0.1010    0.668  168.560    178147   \n",
              "7688         0.0475          0.000006    0.1010    0.855   91.027    179340   \n",
              "...             ...               ...       ...      ...      ...       ...   \n",
              "8835         0.0412          0.000785    0.1950    0.777  118.961    176766   \n",
              "11086        0.0847          0.000000    0.1490    0.430  130.049    243836   \n",
              "9238         0.0540          0.000000    0.0859    0.246  126.093    226666   \n",
              "11703        0.1470          0.000019    0.1050    0.520  109.998    204300   \n",
              "13495        0.9760          0.892000    0.1620    0.167   86.791    154602   \n",
              "\n",
              "      plataforma   streams  \n",
              "5244      tiktok  84131760  \n",
              "998       tiktok  80764045  \n",
              "5245      tiktok  77001868  \n",
              "5246      tiktok  68911998  \n",
              "7688      tiktok  67499798  \n",
              "...          ...       ...  \n",
              "8835      tiktok   2619942  \n",
              "11086     tiktok   2619064  \n",
              "9238      tiktok   2605389  \n",
              "11703     tiktok   2580512  \n",
              "13495     tiktok   2536282  \n",
              "\n",
              "[16260 rows x 13 columns]"
            ]
          },
          "execution_count": 223,
          "metadata": {},
          "output_type": "execute_result"
        }
      ],
      "source": [
        "pd.merge(tiktok.drop_duplicates(\"track_name\"), df[[\"track_name\", \"streams\"]],how = \"inner\", on=\"track_name\").sort_values(\"streams\", ascending = False)"
      ]
    },
    {
      "cell_type": "markdown",
      "metadata": {},
      "source": [
        "# Información Útil\n",
        "* [Seaborn bonito](https://www.codecademy.com/article/seaborn-design-i)\n",
        "* [Gráficos con barra de error](https://stackoverflow.com/questions/43159528/error-bars-with-seaborn-and-stripplot)\n",
        "* [¿Cuándo una desviación estandar es pequeña?](https://math.stackexchange.com/questions/260617/how-to-determine-if-standard-deviation-is-high-low)"
      ]
    },
    {
      "cell_type": "code",
      "execution_count": null,
      "metadata": {
        "id": "Ky_k0DembvSt"
      },
      "outputs": [],
      "source": [
        "n = 9\n",
        "mensual[\"hue\"] = [False]*n + [True]*(12-n)\n",
        "a1 = mensual[mensual.hue == False].drop([\"start\",\"hue\"], axis = 1).transpose().reset_index()\n",
        "a2 = mensual[mensual.hue == True].drop([\"start\",\"hue\"], axis = 1).transpose().reset_index()\n",
        "a1 = pd.melt(a1, id_vars='index', value_name='valor').drop([\"variable\"], axis = 1)\n",
        "a2 = pd.melt(a2, id_vars='index', value_name='valor').drop([\"variable\"], axis = 1)\n",
        "a1[\"periodo\"] = \"inicio\"\n",
        "a2[\"periodo\"] = \"fin\"\n",
        "aux = pd.concat([a1,a2], axis = 0)\n",
        "aux.columns = [\"feature\", \"valor\", \"periodo\"]"
      ]
    }
  ],
  "metadata": {
    "colab": {
      "collapsed_sections": [],
      "name": "spotify top200.ipynb",
      "provenance": []
    },
    "interpreter": {
      "hash": "843fd92092d224b47c16a68bd4bca3fc6a9bbbdfa33fd8038d7a6787e0fa4720"
    },
    "kernelspec": {
      "display_name": "Python 3.8.8 ('base')",
      "language": "python",
      "name": "python3"
    },
    "language_info": {
      "codemirror_mode": {
        "name": "ipython",
        "version": 3
      },
      "file_extension": ".py",
      "mimetype": "text/x-python",
      "name": "python",
      "nbconvert_exporter": "python",
      "pygments_lexer": "ipython3",
      "version": "3.8.8"
    },
    "orig_nbformat": 4
  },
  "nbformat": 4,
  "nbformat_minor": 0
}
